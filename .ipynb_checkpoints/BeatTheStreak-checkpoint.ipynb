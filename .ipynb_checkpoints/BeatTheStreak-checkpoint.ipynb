{
 "cells": [
  {
   "cell_type": "code",
   "execution_count": 1,
   "metadata": {},
   "outputs": [],
   "source": [
    "# Imports\n",
    "import pandas as pd\n",
    "import itertools\n",
    "from sklearn.model_selection import train_test_split\n",
    "import matplotlib.pyplot as plt\n",
    "import numpy as np\n",
    "\n",
    "from sklearn.linear_model import LogisticRegression\n",
    "from sklearn.metrics import confusion_matrix\n",
    "\n",
    "from sklearn.tree import DecisionTreeClassifier\n",
    "from sklearn.ensemble import AdaBoostClassifier, GradientBoostingClassifier, BaggingClassifier, RandomForestClassifier\n",
    "\n",
    "from sklearn import metrics\n",
    "from sklearn.metrics import precision_score, recall_score, accuracy_score, f1_score, classification_report, roc_auc_score, roc_curve, auc"
   ]
  },
  {
   "cell_type": "code",
   "execution_count": 25,
   "metadata": {},
   "outputs": [],
   "source": [
    "# Function to visualize confusion matrix\n",
    "\n",
    "def show_cf(y_true, y_pred, class_names=None, model_name=None):\n",
    "    cf = confusion_matrix(y_true, y_pred)\n",
    "    plt.imshow(cf, cmap=plt.cm.Blues)\n",
    "    \n",
    "    if model_name:\n",
    "        plt.title(\"Confusion Matrix: {}\".format(model_name))\n",
    "    else:\n",
    "        plt.title(\"Confusion Matrix\")\n",
    "    plt.ylabel('True Label')\n",
    "    plt.xlabel('Predicted Label')\n",
    "    \n",
    "    class_names = set(y_true)\n",
    "    tick_marks = np.arange(len(class_names))\n",
    "    if class_names:\n",
    "        plt.xticks(tick_marks, class_names)\n",
    "        plt.yticks(tick_marks, class_names)\n",
    "    \n",
    "    thresh = cf.max() / 2.\n",
    "    \n",
    "    for i, j in itertools.product(range(cf.shape[0]), range(cf.shape[1])):\n",
    "        plt.text(j, i, cf[i, j], horizontalalignment='center', color='white' if cf[i, j] > thresh else 'black')\n",
    "\n",
    "    plt.colorbar()"
   ]
  },
  {
   "cell_type": "code",
   "execution_count": 3,
   "metadata": {},
   "outputs": [],
   "source": [
    "df = pd.read_csv('savant_data.csv')"
   ]
  },
  {
   "cell_type": "code",
   "execution_count": 4,
   "metadata": {},
   "outputs": [
    {
     "data": {
      "text/plain": [
       "Index(['pitch_type', 'game_date', 'release_speed', 'release_pos_x',\n",
       "       'release_pos_z', 'player_name', 'batter', 'pitcher', 'events',\n",
       "       'description', 'spin_dir', 'spin_rate_deprecated',\n",
       "       'break_angle_deprecated', 'break_length_deprecated', 'zone', 'des',\n",
       "       'game_type', 'stand', 'p_throws', 'home_team', 'away_team', 'type',\n",
       "       'hit_location', 'bb_type', 'balls', 'strikes', 'game_year', 'pfx_x',\n",
       "       'pfx_z', 'plate_x', 'plate_z', 'on_3b', 'on_2b', 'on_1b',\n",
       "       'outs_when_up', 'inning', 'inning_topbot', 'hc_x', 'hc_y',\n",
       "       'tfs_deprecated', 'tfs_zulu_deprecated', 'fielder_2', 'umpire', 'sv_id',\n",
       "       'vx0', 'vy0', 'vz0', 'ax', 'ay', 'az', 'sz_top', 'sz_bot',\n",
       "       'hit_distance_sc', 'launch_speed', 'launch_angle', 'effective_speed',\n",
       "       'release_spin_rate', 'release_extension', 'game_pk', 'pitcher.1',\n",
       "       'fielder_2.1', 'fielder_3', 'fielder_4', 'fielder_5', 'fielder_6',\n",
       "       'fielder_7', 'fielder_8', 'fielder_9', 'release_pos_y',\n",
       "       'estimated_ba_using_speedangle', 'estimated_woba_using_speedangle',\n",
       "       'woba_value', 'woba_denom', 'babip_value', 'iso_value',\n",
       "       'launch_speed_angle', 'at_bat_number', 'pitch_number', 'pitch_name',\n",
       "       'home_score', 'away_score', 'bat_score', 'fld_score', 'post_away_score',\n",
       "       'post_home_score', 'post_bat_score', 'post_fld_score',\n",
       "       'if_fielding_alignment', 'of_fielding_alignment'],\n",
       "      dtype='object')"
      ]
     },
     "execution_count": 4,
     "metadata": {},
     "output_type": "execute_result"
    }
   ],
   "source": [
    "df.columns"
   ]
  },
  {
   "cell_type": "code",
   "execution_count": 5,
   "metadata": {},
   "outputs": [],
   "source": [
    "df = df[['game_date', 'batter', 'pitcher', 'events', 'description',\n",
    "        'stand', 'p_throws', 'home_team', 'away_team',\n",
    "        'launch_speed', 'launch_angle', 'estimated_ba_using_speedangle']]"
   ]
  },
  {
   "cell_type": "code",
   "execution_count": 6,
   "metadata": {},
   "outputs": [
    {
     "data": {
      "text/html": [
       "<div>\n",
       "<style scoped>\n",
       "    .dataframe tbody tr th:only-of-type {\n",
       "        vertical-align: middle;\n",
       "    }\n",
       "\n",
       "    .dataframe tbody tr th {\n",
       "        vertical-align: top;\n",
       "    }\n",
       "\n",
       "    .dataframe thead th {\n",
       "        text-align: right;\n",
       "    }\n",
       "</style>\n",
       "<table border=\"1\" class=\"dataframe\">\n",
       "  <thead>\n",
       "    <tr style=\"text-align: right;\">\n",
       "      <th></th>\n",
       "      <th>game_date</th>\n",
       "      <th>batter</th>\n",
       "      <th>pitcher</th>\n",
       "      <th>events</th>\n",
       "      <th>description</th>\n",
       "      <th>stand</th>\n",
       "      <th>p_throws</th>\n",
       "      <th>home_team</th>\n",
       "      <th>away_team</th>\n",
       "      <th>launch_speed</th>\n",
       "      <th>launch_angle</th>\n",
       "      <th>estimated_ba_using_speedangle</th>\n",
       "    </tr>\n",
       "  </thead>\n",
       "  <tbody>\n",
       "    <tr>\n",
       "      <td>39837</td>\n",
       "      <td>2019-08-03</td>\n",
       "      <td>543068</td>\n",
       "      <td>518633</td>\n",
       "      <td>home_run</td>\n",
       "      <td>hit_into_play_score</td>\n",
       "      <td>R</td>\n",
       "      <td>L</td>\n",
       "      <td>MIN</td>\n",
       "      <td>KC</td>\n",
       "      <td>108.8</td>\n",
       "      <td>28.0</td>\n",
       "      <td>0.992</td>\n",
       "    </tr>\n",
       "    <tr>\n",
       "      <td>11000</td>\n",
       "      <td>2019-09-13</td>\n",
       "      <td>543807</td>\n",
       "      <td>641571</td>\n",
       "      <td>home_run</td>\n",
       "      <td>hit_into_play_score</td>\n",
       "      <td>R</td>\n",
       "      <td>R</td>\n",
       "      <td>KC</td>\n",
       "      <td>HOU</td>\n",
       "      <td>114.3</td>\n",
       "      <td>22.5</td>\n",
       "      <td>0.992</td>\n",
       "    </tr>\n",
       "    <tr>\n",
       "      <td>9859</td>\n",
       "      <td>2019-09-15</td>\n",
       "      <td>664056</td>\n",
       "      <td>502624</td>\n",
       "      <td>home_run</td>\n",
       "      <td>hit_into_play_score</td>\n",
       "      <td>R</td>\n",
       "      <td>R</td>\n",
       "      <td>STL</td>\n",
       "      <td>MIL</td>\n",
       "      <td>109.1</td>\n",
       "      <td>24.4</td>\n",
       "      <td>0.992</td>\n",
       "    </tr>\n",
       "    <tr>\n",
       "      <td>30153</td>\n",
       "      <td>2019-08-16</td>\n",
       "      <td>543510</td>\n",
       "      <td>621142</td>\n",
       "      <td>home_run</td>\n",
       "      <td>hit_into_play_score</td>\n",
       "      <td>R</td>\n",
       "      <td>R</td>\n",
       "      <td>LAA</td>\n",
       "      <td>CWS</td>\n",
       "      <td>109.3</td>\n",
       "      <td>28.3</td>\n",
       "      <td>0.992</td>\n",
       "    </tr>\n",
       "    <tr>\n",
       "      <td>20374</td>\n",
       "      <td>2019-08-31</td>\n",
       "      <td>596142</td>\n",
       "      <td>456701</td>\n",
       "      <td>home_run</td>\n",
       "      <td>hit_into_play_score</td>\n",
       "      <td>R</td>\n",
       "      <td>R</td>\n",
       "      <td>NYY</td>\n",
       "      <td>OAK</td>\n",
       "      <td>109.4</td>\n",
       "      <td>28.0</td>\n",
       "      <td>0.992</td>\n",
       "    </tr>\n",
       "    <tr>\n",
       "      <td>...</td>\n",
       "      <td>...</td>\n",
       "      <td>...</td>\n",
       "      <td>...</td>\n",
       "      <td>...</td>\n",
       "      <td>...</td>\n",
       "      <td>...</td>\n",
       "      <td>...</td>\n",
       "      <td>...</td>\n",
       "      <td>...</td>\n",
       "      <td>...</td>\n",
       "      <td>...</td>\n",
       "      <td>...</td>\n",
       "    </tr>\n",
       "    <tr>\n",
       "      <td>39125</td>\n",
       "      <td>2019-08-04</td>\n",
       "      <td>592885</td>\n",
       "      <td>506433</td>\n",
       "      <td>home_run</td>\n",
       "      <td>hit_into_play_score</td>\n",
       "      <td>L</td>\n",
       "      <td>R</td>\n",
       "      <td>CHC</td>\n",
       "      <td>MIL</td>\n",
       "      <td>106.6</td>\n",
       "      <td>24.6</td>\n",
       "      <td>0.982</td>\n",
       "    </tr>\n",
       "    <tr>\n",
       "      <td>17110</td>\n",
       "      <td>2019-09-04</td>\n",
       "      <td>606466</td>\n",
       "      <td>606131</td>\n",
       "      <td>home_run</td>\n",
       "      <td>hit_into_play_score</td>\n",
       "      <td>L</td>\n",
       "      <td>R</td>\n",
       "      <td>ARI</td>\n",
       "      <td>SD</td>\n",
       "      <td>109.4</td>\n",
       "      <td>21.7</td>\n",
       "      <td>0.982</td>\n",
       "    </tr>\n",
       "    <tr>\n",
       "      <td>5476</td>\n",
       "      <td>2019-09-21</td>\n",
       "      <td>543543</td>\n",
       "      <td>621295</td>\n",
       "      <td>home_run</td>\n",
       "      <td>hit_into_play_score</td>\n",
       "      <td>L</td>\n",
       "      <td>R</td>\n",
       "      <td>CLE</td>\n",
       "      <td>PHI</td>\n",
       "      <td>108.0</td>\n",
       "      <td>24.2</td>\n",
       "      <td>0.982</td>\n",
       "    </tr>\n",
       "    <tr>\n",
       "      <td>11047</td>\n",
       "      <td>2019-09-13</td>\n",
       "      <td>502671</td>\n",
       "      <td>519076</td>\n",
       "      <td>home_run</td>\n",
       "      <td>hit_into_play_score</td>\n",
       "      <td>R</td>\n",
       "      <td>R</td>\n",
       "      <td>STL</td>\n",
       "      <td>MIL</td>\n",
       "      <td>106.3</td>\n",
       "      <td>25.1</td>\n",
       "      <td>0.982</td>\n",
       "    </tr>\n",
       "    <tr>\n",
       "      <td>7026</td>\n",
       "      <td>2019-09-19</td>\n",
       "      <td>518692</td>\n",
       "      <td>573046</td>\n",
       "      <td>field_out</td>\n",
       "      <td>hit_into_play</td>\n",
       "      <td>L</td>\n",
       "      <td>R</td>\n",
       "      <td>ATL</td>\n",
       "      <td>PHI</td>\n",
       "      <td>107.3</td>\n",
       "      <td>25.2</td>\n",
       "      <td>0.982</td>\n",
       "    </tr>\n",
       "  </tbody>\n",
       "</table>\n",
       "<p>100 rows × 12 columns</p>\n",
       "</div>"
      ],
      "text/plain": [
       "        game_date  batter  pitcher     events          description stand  \\\n",
       "39837  2019-08-03  543068   518633   home_run  hit_into_play_score     R   \n",
       "11000  2019-09-13  543807   641571   home_run  hit_into_play_score     R   \n",
       "9859   2019-09-15  664056   502624   home_run  hit_into_play_score     R   \n",
       "30153  2019-08-16  543510   621142   home_run  hit_into_play_score     R   \n",
       "20374  2019-08-31  596142   456701   home_run  hit_into_play_score     R   \n",
       "...           ...     ...      ...        ...                  ...   ...   \n",
       "39125  2019-08-04  592885   506433   home_run  hit_into_play_score     L   \n",
       "17110  2019-09-04  606466   606131   home_run  hit_into_play_score     L   \n",
       "5476   2019-09-21  543543   621295   home_run  hit_into_play_score     L   \n",
       "11047  2019-09-13  502671   519076   home_run  hit_into_play_score     R   \n",
       "7026   2019-09-19  518692   573046  field_out        hit_into_play     L   \n",
       "\n",
       "      p_throws home_team away_team  launch_speed  launch_angle  \\\n",
       "39837        L       MIN        KC         108.8          28.0   \n",
       "11000        R        KC       HOU         114.3          22.5   \n",
       "9859         R       STL       MIL         109.1          24.4   \n",
       "30153        R       LAA       CWS         109.3          28.3   \n",
       "20374        R       NYY       OAK         109.4          28.0   \n",
       "...        ...       ...       ...           ...           ...   \n",
       "39125        R       CHC       MIL         106.6          24.6   \n",
       "17110        R       ARI        SD         109.4          21.7   \n",
       "5476         R       CLE       PHI         108.0          24.2   \n",
       "11047        R       STL       MIL         106.3          25.1   \n",
       "7026         R       ATL       PHI         107.3          25.2   \n",
       "\n",
       "       estimated_ba_using_speedangle  \n",
       "39837                          0.992  \n",
       "11000                          0.992  \n",
       "9859                           0.992  \n",
       "30153                          0.992  \n",
       "20374                          0.992  \n",
       "...                              ...  \n",
       "39125                          0.982  \n",
       "17110                          0.982  \n",
       "5476                           0.982  \n",
       "11047                          0.982  \n",
       "7026                           0.982  \n",
       "\n",
       "[100 rows x 12 columns]"
      ]
     },
     "execution_count": 6,
     "metadata": {},
     "output_type": "execute_result"
    }
   ],
   "source": [
    "df.sort_values(by='estimated_ba_using_speedangle', ascending=False)[100:200]"
   ]
  },
  {
   "cell_type": "code",
   "execution_count": 7,
   "metadata": {
    "scrolled": true
   },
   "outputs": [
    {
     "data": {
      "text/plain": [
       "array(['single', 'field_out', 'home_run', 'force_out', 'double',\n",
       "       'grounded_into_double_play', 'double_play', 'sac_fly', 'triple',\n",
       "       'fielders_choice_out', 'sac_bunt', 'fielders_choice',\n",
       "       'sac_fly_double_play', 'sac_bunt_double_play', 'triple_play'],\n",
       "      dtype=object)"
      ]
     },
     "execution_count": 7,
     "metadata": {},
     "output_type": "execute_result"
    }
   ],
   "source": [
    "df['events'].unique()"
   ]
  },
  {
   "cell_type": "code",
   "execution_count": 8,
   "metadata": {},
   "outputs": [
    {
     "data": {
      "text/plain": [
       "array(['hit_into_play_no_out', 'hit_into_play', 'hit_into_play_score'],\n",
       "      dtype=object)"
      ]
     },
     "execution_count": 8,
     "metadata": {},
     "output_type": "execute_result"
    }
   ],
   "source": [
    "df['description'].unique()"
   ]
  },
  {
   "cell_type": "code",
   "execution_count": 10,
   "metadata": {},
   "outputs": [],
   "source": [
    "events = df['events'].to_list()\n",
    "non_hits = ['single', 'home_run', 'double', 'triple']\n",
    "\n",
    "hit = []\n",
    "for i in events:\n",
    "    if i in non_hits:\n",
    "        x = 0\n",
    "    else:\n",
    "        x = 1\n",
    "    hit.append(x)"
   ]
  },
  {
   "cell_type": "code",
   "execution_count": 12,
   "metadata": {},
   "outputs": [],
   "source": [
    "df['hit'] = hit"
   ]
  },
  {
   "cell_type": "code",
   "execution_count": 14,
   "metadata": {},
   "outputs": [
    {
     "data": {
      "text/plain": [
       "Index(['game_date', 'batter', 'pitcher', 'events', 'description', 'stand',\n",
       "       'p_throws', 'home_team', 'away_team', 'launch_speed', 'launch_angle',\n",
       "       'estimated_ba_using_speedangle', 'hit'],\n",
       "      dtype='object')"
      ]
     },
     "execution_count": 14,
     "metadata": {},
     "output_type": "execute_result"
    }
   ],
   "source": [
    "df.columns"
   ]
  },
  {
   "cell_type": "code",
   "execution_count": 16,
   "metadata": {
    "scrolled": true
   },
   "outputs": [],
   "source": [
    "df_final = df[['game_date', 'batter', 'pitcher', 'stand',\n",
    "       'p_throws', 'home_team', 'away_team', 'launch_speed', 'launch_angle',\n",
    "       'estimated_ba_using_speedangle', 'hit']]"
   ]
  },
  {
   "cell_type": "code",
   "execution_count": 19,
   "metadata": {},
   "outputs": [],
   "source": [
    "# Subsetting target variable\n",
    "target = df_final['hit']\n",
    "\n",
    "# Preparing features\n",
    "features = df_final.drop(['hit'], axis = 1, inplace = False)\n",
    "# Dummy variables\n",
    "features = pd.get_dummies(features)"
   ]
  },
  {
   "cell_type": "code",
   "execution_count": 21,
   "metadata": {},
   "outputs": [],
   "source": [
    "# Testing/Trainging data split for model \n",
    "\n",
    "X_train, X_test, y_train, y_test = train_test_split(features, target, test_size=0.25)"
   ]
  },
  {
   "cell_type": "code",
   "execution_count": 24,
   "metadata": {},
   "outputs": [],
   "source": [
    "# Model\n",
    "dt = DecisionTreeClassifier(random_state=10)  \n",
    "\n",
    "# train\n",
    "dt = dt.fit(X_train, y_train)\n",
    "\n",
    "# predict\n",
    "dt_train_preds = dt.predict(X_train)\n",
    "dt_test_preds = dt.predict(X_test)\n",
    "\n",
    "# evaluate\n",
    "dt_train_accuracy = accuracy_score(y_train, dt_train_preds)\n",
    "dt_test_accuracy = accuracy_score(y_test, dt_test_preds)\n",
    "dt_test_precision = precision_score(y_test, dt_test_preds)\n",
    "dt_test_F1 = f1_score(y_test, dt_test_preds)\n",
    "dt_report = classification_report(y_test, dt_test_preds)\n",
    "\n",
    "# append accuracy score to our dataframe\n",
    "score_dt = ['Vanilla Decision Tree', dt_train_accuracy, dt_test_accuracy, dt_test_precision, dt_test_F1]"
   ]
  },
  {
   "cell_type": "code",
   "execution_count": 26,
   "metadata": {},
   "outputs": [
    {
     "name": "stdout",
     "output_type": "stream",
     "text": [
      "Classification Report Vanilla Decision Tree: \n",
      "               precision    recall  f1-score   support\n",
      "\n",
      "           0       0.60      0.61      0.61      3324\n",
      "           1       0.81      0.80      0.80      6676\n",
      "\n",
      "    accuracy                           0.74     10000\n",
      "   macro avg       0.71      0.71      0.71     10000\n",
      "weighted avg       0.74      0.74      0.74     10000\n",
      "\n",
      "------------------------------------------------------\n",
      "\n",
      "Vanilla Decision Tree\n",
      "------------------------------------------------------\n",
      "Training Accuracy: 100.0%\n",
      "Test Accuracy:     73.81%\n"
     ]
    }
   ],
   "source": [
    "print('Classification Report Vanilla Decision Tree: \\n', dt_report)\n",
    "print('------------------------------------------------------')\n",
    "print('')\n",
    "print('Vanilla Decision Tree')\n",
    "print('------------------------------------------------------')\n",
    "print(f\"Training Accuracy: {(dt_train_accuracy * 100):.4}%\")\n",
    "print(f\"Test Accuracy:     {(dt_test_accuracy * 100):.4}%\")"
   ]
  },
  {
   "cell_type": "code",
   "execution_count": 33,
   "metadata": {},
   "outputs": [
    {
     "data": {
      "image/png": "[encoded data removed]",
      "text/plain": [
       "<Figure size 432x288 with 2 Axes>"
      ]
     },
     "metadata": {
      "needs_background": "light"
     },
     "output_type": "display_data"
    }
   ],
   "source": [
    "show_cf(y_test, dt_test_preds)"
   ]
  },
  {
   "cell_type": "code",
   "execution_count": 35,
   "metadata": {},
   "outputs": [
    {
     "name": "stderr",
     "output_type": "stream",
     "text": [
      "/Users/Kelly/anaconda3/lib/python3.7/site-packages/sklearn/ensemble/forest.py:245: FutureWarning: The default value of n_estimators will change from 10 in version 0.20 to 100 in 0.22.\n",
      "  \"10 in version 0.20 to 100 in 0.22.\", FutureWarning)\n"
     ]
    }
   ],
   "source": [
    "# model\n",
    "rfc = RandomForestClassifier()\n",
    "\n",
    "# train\n",
    "rfc = rfc.fit(X_train, y_train)\n",
    "\n",
    "# predict\n",
    "rfc_train_preds = rfc.predict(X_train)\n",
    "rfc_test_preds = rfc.predict(X_test)\n",
    "\n",
    "# evaluate\n",
    "rfc_train_accuracy = accuracy_score(y_train, rfc_train_preds)\n",
    "rfc_test_accuracy = accuracy_score(y_test, rfc_test_preds)\n",
    "rfc_test_precision = precision_score(y_test, rfc_test_preds)\n",
    "rfc_test_F1 = f1_score(y_test, rfc_test_preds)\n",
    "rfc_report = classification_report(y_test, rfc_test_preds)\n",
    "\n",
    "# append accuracy score to our dataframe\n",
    "score_rfc = ['Random Forest', rfc_train_accuracy, rfc_test_accuracy, rfc_test_precision, rfc_test_F1]"
   ]
  },
  {
   "cell_type": "code",
   "execution_count": 36,
   "metadata": {},
   "outputs": [
    {
     "name": "stdout",
     "output_type": "stream",
     "text": [
      "Classification Report Random Forest: \n",
      "               precision    recall  f1-score   support\n",
      "\n",
      "           0       0.68      0.68      0.68      3324\n",
      "           1       0.84      0.84      0.84      6676\n",
      "\n",
      "    accuracy                           0.79     10000\n",
      "   macro avg       0.76      0.76      0.76     10000\n",
      "weighted avg       0.79      0.79      0.79     10000\n",
      "\n",
      "------------------------------------------------------\n",
      "\n",
      "Random Forest\n",
      "------------------------------------------------------\n",
      "Training Accuracy: 98.92%\n",
      "Test Accuracy:     78.96%\n"
     ]
    }
   ],
   "source": [
    "\n",
    "print('Classification Report Random Forest: \\n', rfc_report)\n",
    "print('------------------------------------------------------')\n",
    "print('')\n",
    "print('Random Forest')\n",
    "print('------------------------------------------------------')\n",
    "print(f\"Training Accuracy: {(rfc_train_accuracy * 100):.4}%\")\n",
    "print(f\"Test Accuracy:     {(rfc_test_accuracy * 100):.4}%\")"
   ]
  },
  {
   "cell_type": "code",
   "execution_count": 37,
   "metadata": {},
   "outputs": [
    {
     "data": {
      "image/png": "[encoded data removed]",
      "text/plain": [
       "<Figure size 432x288 with 2 Axes>"
      ]
     },
     "metadata": {
      "needs_background": "light"
     },
     "output_type": "display_data"
    }
   ],
   "source": [
    "show_cf(y_test, rfc_test_preds)"
   ]
  },
  {
   "cell_type": "code",
   "execution_count": 38,
   "metadata": {},
   "outputs": [],
   "source": [
    "import warnings\n",
    "warnings.filterwarnings(\"ignore\")\n",
    "# model\n",
    "adaboost = AdaBoostClassifier()\n",
    "\n",
    "# train\n",
    "adaboost = adaboost.fit(X_train, y_train)\n",
    "\n",
    "# predict\n",
    "adaboost_train_preds = adaboost.predict(X_train)\n",
    "adaboost_test_preds = adaboost.predict(X_test)\n",
    "\n",
    "# evaluate\n",
    "adaboost_train_accuracy = accuracy_score(y_train, adaboost_train_preds)\n",
    "adaboost_test_accuracy = accuracy_score(y_test, adaboost_test_preds)\n",
    "adaboost_test_precision = precision_score(y_test, adaboost_test_preds)\n",
    "adaboost_test_F1 = f1_score(y_test, adaboost_test_preds)\n",
    "adaboost_report = classification_report(y_test, adaboost_test_preds)\n",
    "\n",
    "# append accuracy score to our dataframe\n",
    "score_adaboost = ['Adaboost', adaboost_train_accuracy, adaboost_test_accuracy, adaboost_test_precision, adaboost_test_F1]"
   ]
  },
  {
   "cell_type": "code",
   "execution_count": 39,
   "metadata": {},
   "outputs": [
    {
     "name": "stdout",
     "output_type": "stream",
     "text": [
      "Classification Report Adaboost: \n",
      "               precision    recall  f1-score   support\n",
      "\n",
      "           0       0.70      0.73      0.71      3324\n",
      "           1       0.86      0.84      0.85      6676\n",
      "\n",
      "    accuracy                           0.80     10000\n",
      "   macro avg       0.78      0.79      0.78     10000\n",
      "weighted avg       0.81      0.80      0.81     10000\n",
      "\n",
      "------------------------------------------------------\n",
      "\n",
      "Adaboost\n",
      "------------------------------------------------------\n",
      "Training Accuracy: 80.79%\n",
      "Test Accuracy:     80.49%\n"
     ]
    }
   ],
   "source": [
    "print('Classification Report Adaboost: \\n', adaboost_report)\n",
    "print('------------------------------------------------------')\n",
    "print('')\n",
    "print('Adaboost')\n",
    "print('------------------------------------------------------')\n",
    "print(f\"Training Accuracy: {(adaboost_train_accuracy * 100):.4}%\")\n",
    "print(f\"Test Accuracy:     {(adaboost_test_accuracy * 100):.4}%\")"
   ]
  },
  {
   "cell_type": "code",
   "execution_count": 40,
   "metadata": {},
   "outputs": [
    {
     "data": {
      "image/png": "[encoded data removed]",
      "text/plain": [
       "<Figure size 432x288 with 2 Axes>"
      ]
     },
     "metadata": {
      "needs_background": "light"
     },
     "output_type": "display_data"
    }
   ],
   "source": [
    "show_cf(y_test, adaboost_test_preds)"
   ]
  }
 ],
 "metadata": {
  "kernelspec": {
   "display_name": "Python 3",
   "language": "python",
   "name": "python3"
  },
  "language_info": {
   "codemirror_mode": {
    "name": "ipython",
    "version": 3
   },
   "file_extension": ".py",
   "mimetype": "text/x-python",
   "name": "python",
   "nbconvert_exporter": "python",
   "pygments_lexer": "ipython3",
   "version": "3.7.4"
  }
 },
 "nbformat": 4,
 "nbformat_minor": 2
}
