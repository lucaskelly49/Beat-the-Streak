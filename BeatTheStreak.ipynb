{
 "cells": [
  {
   "cell_type": "markdown",
   "metadata": {},
   "source": [
    "# Objective:\n",
    "\n",
    "How can predictive modeling do with predicting players that will get a hit in a baseball game? First, in order to predict a hit, what variables can a model be trained on?\n",
    "\n",
    "# Outline:\n",
    "\n",
    "- STEP 1: Load and prepare the data\n",
    "- STEP 2: Explore and visualize"
   ]
  },
  {
   "cell_type": "code",
   "execution_count": 42,
   "metadata": {},
   "outputs": [],
   "source": [
    "# Imports\n",
    "import pandas as pd\n",
    "import seaborn as sns # plotting\n",
    "from statsmodels.graphics.gofplots import qqplot\n",
    "import itertools\n",
    "from sklearn.model_selection import train_test_split\n",
    "import matplotlib.pyplot as plt\n",
    "import numpy as np\n",
    "\n",
    "from sklearn.linear_model import LogisticRegression\n",
    "from sklearn.metrics import confusion_matrix\n",
    "from sklearn import preprocessing \n",
    "\n",
    "from sklearn.tree import DecisionTreeClassifier\n",
    "from sklearn.ensemble import AdaBoostClassifier, GradientBoostingClassifier, BaggingClassifier, RandomForestClassifier\n",
    "\n",
    "from sklearn import metrics\n",
    "from sklearn.metrics import precision_score, recall_score, accuracy_score, f1_score, classification_report, roc_auc_score, roc_curve, auc"
   ]
  },
  {
   "cell_type": "code",
   "execution_count": 101,
   "metadata": {},
   "outputs": [],
   "source": [
    "def plot_feature_importances(model):\n",
    "    '''\n",
    "    Visualization for future importance\n",
    "    '''\n",
    "    n_features = X_train.shape[1]\n",
    "    plt.figure(figsize=(6,8))\n",
    "    plt.barh(range(n_features), model.feature_importances_, align='center') \n",
    "    plt.yticks(np.arange(n_features), X_train.columns.values) \n",
    "    plt.xlabel(\"Feature importance\")\n",
    "    plt.ylabel(\"Feature\")"
   ]
  },
  {
   "cell_type": "code",
   "execution_count": 94,
   "metadata": {},
   "outputs": [],
   "source": [
    "# Function to visualize confusion matrix\n",
    "\n",
    "def show_cf(y_true, y_pred, class_names=None, model_name=None):\n",
    "    cf = confusion_matrix(y_true, y_pred)\n",
    "    plt.imshow(cf, cmap=plt.cm.Blues)\n",
    "    \n",
    "    if model_name:\n",
    "        plt.title(\"Confusion Matrix: {}\".format(model_name))\n",
    "    else:\n",
    "        plt.title(\"Confusion Matrix\")\n",
    "    plt.ylabel('True Label')\n",
    "    plt.xlabel('Predicted Label')\n",
    "    \n",
    "    class_names = set(y_true)\n",
    "    tick_marks = np.arange(len(class_names))\n",
    "    if class_names:\n",
    "        plt.xticks(tick_marks, class_names)\n",
    "        plt.yticks(tick_marks, class_names)\n",
    "    \n",
    "    thresh = cf.max() / 2.\n",
    "    \n",
    "    for i, j in itertools.product(range(cf.shape[0]), range(cf.shape[1])):\n",
    "        plt.text(j, i, cf[i, j], horizontalalignment='center', color='white' if cf[i, j] > thresh else 'black')\n",
    "\n",
    "    plt.colorbar()"
   ]
  },
  {
   "cell_type": "markdown",
   "metadata": {},
   "source": [
    "# Step 1: Load and Prepare\n",
    "\n",
    "What data can be downloaded each day to predict a hit? Baseball Savant's batted ball data from 2018 will give me 40,000 individual events. Let's explore and visualize what we have."
   ]
  },
  {
   "cell_type": "code",
   "execution_count": 116,
   "metadata": {},
   "outputs": [],
   "source": [
    "# Load data\n",
    "df = pd.read_csv('savant_dataTRAIN.csv')"
   ]
  },
  {
   "cell_type": "code",
   "execution_count": 6,
   "metadata": {},
   "outputs": [
    {
     "data": {
      "text/plain": [
       "(40000, 89)"
      ]
     },
     "execution_count": 6,
     "metadata": {},
     "output_type": "execute_result"
    }
   ],
   "source": [
    "# How much do we have?\n",
    "df.shape"
   ]
  },
  {
   "cell_type": "code",
   "execution_count": 7,
   "metadata": {
    "scrolled": true
   },
   "outputs": [
    {
     "data": {
      "text/plain": [
       "Index(['pitch_type', 'game_date', 'release_speed', 'release_pos_x',\n",
       "       'release_pos_z', 'player_name', 'batter', 'pitcher', 'events',\n",
       "       'description', 'spin_dir', 'spin_rate_deprecated',\n",
       "       'break_angle_deprecated', 'break_length_deprecated', 'zone', 'des',\n",
       "       'game_type', 'stand', 'p_throws', 'home_team', 'away_team', 'type',\n",
       "       'hit_location', 'bb_type', 'balls', 'strikes', 'game_year', 'pfx_x',\n",
       "       'pfx_z', 'plate_x', 'plate_z', 'on_3b', 'on_2b', 'on_1b',\n",
       "       'outs_when_up', 'inning', 'inning_topbot', 'hc_x', 'hc_y',\n",
       "       'tfs_deprecated', 'tfs_zulu_deprecated', 'fielder_2', 'umpire', 'sv_id',\n",
       "       'vx0', 'vy0', 'vz0', 'ax', 'ay', 'az', 'sz_top', 'sz_bot',\n",
       "       'hit_distance_sc', 'launch_speed', 'launch_angle', 'effective_speed',\n",
       "       'release_spin_rate', 'release_extension', 'game_pk', 'pitcher.1',\n",
       "       'fielder_2.1', 'fielder_3', 'fielder_4', 'fielder_5', 'fielder_6',\n",
       "       'fielder_7', 'fielder_8', 'fielder_9', 'release_pos_y',\n",
       "       'estimated_ba_using_speedangle', 'estimated_woba_using_speedangle',\n",
       "       'woba_value', 'woba_denom', 'babip_value', 'iso_value',\n",
       "       'launch_speed_angle', 'at_bat_number', 'pitch_number', 'pitch_name',\n",
       "       'home_score', 'away_score', 'bat_score', 'fld_score', 'post_away_score',\n",
       "       'post_home_score', 'post_bat_score', 'post_fld_score',\n",
       "       'if_fielding_alignment', 'of_fielding_alignment'],\n",
       "      dtype='object')"
      ]
     },
     "execution_count": 7,
     "metadata": {},
     "output_type": "execute_result"
    }
   ],
   "source": [
    "# What are the features?\n",
    "df.columns"
   ]
  },
  {
   "cell_type": "code",
   "execution_count": 8,
   "metadata": {},
   "outputs": [
    {
     "data": {
      "text/plain": [
       "89"
      ]
     },
     "execution_count": 8,
     "metadata": {},
     "output_type": "execute_result"
    }
   ],
   "source": [
    "# How many features do we have?\n",
    "len(df.columns)"
   ]
  },
  {
   "cell_type": "markdown",
   "metadata": {},
   "source": [
    "#### NOTE: \n",
    "\n",
    "We have a ton of data here for one individual at batted-ball event. An issue will be first, deciding what features are actually predictive of a hit and can train the model. However, those predictive features need to be able to be accessed in order to predict. For example, if I want to find out whether or not player A will get a hit before a game, I need to be able to run known values through the model. Therefore, I cannot use features that have not yet occured, like how hard the ball was hit, because they haven't happened yet."
   ]
  },
  {
   "cell_type": "markdown",
   "metadata": {},
   "source": [
    "# STEP 1a: Designate a target\n",
    "\n",
    "I'm trying to predict an outcome of a hit. Therefore, my model needs to have a categorical target, 0=non-hit and 1=hit."
   ]
  },
  {
   "cell_type": "code",
   "execution_count": 117,
   "metadata": {
    "scrolled": true
   },
   "outputs": [
    {
     "data": {
      "text/plain": [
       "array(['single', 'field_out', 'home_run', 'force_out', 'double',\n",
       "       'grounded_into_double_play', 'double_play', 'sac_fly', 'triple',\n",
       "       'fielders_choice_out', 'sac_bunt', 'fielders_choice',\n",
       "       'sac_fly_double_play', 'sac_bunt_double_play', 'triple_play'],\n",
       "      dtype=object)"
      ]
     },
     "execution_count": 117,
     "metadata": {},
     "output_type": "execute_result"
    }
   ],
   "source": [
    "# Categorize the events \n",
    "df['events'].unique()"
   ]
  },
  {
   "cell_type": "code",
   "execution_count": 118,
   "metadata": {},
   "outputs": [
    {
     "data": {
      "text/plain": [
       "array(['hit_into_play_no_out', 'hit_into_play', 'hit_into_play_score'],\n",
       "      dtype=object)"
      ]
     },
     "execution_count": 118,
     "metadata": {},
     "output_type": "execute_result"
    }
   ],
   "source": [
    "# Does description influence the hit/non-hit designation?\n",
    "df['description'].unique()"
   ]
  },
  {
   "cell_type": "code",
   "execution_count": 119,
   "metadata": {},
   "outputs": [],
   "source": [
    "# Here's a function to create my target column\n",
    "\n",
    "# Send the event colum to a list\n",
    "events = df['events'].to_list()\n",
    "# create a non-hit list\n",
    "non_hits = ['single', 'home_run', 'double', 'triple']\n",
    "\n",
    "# Run a loop that will label each instance as a hit/non-hit\n",
    "hit = []\n",
    "for i in events:\n",
    "    if i in non_hits:\n",
    "        x = 0\n",
    "    else:\n",
    "        x = 1\n",
    "    hit.append(x)\n",
    "\n",
    "# Add this new column back into the df\n",
    "df['hit'] = hit"
   ]
  },
  {
   "cell_type": "code",
   "execution_count": 120,
   "metadata": {},
   "outputs": [],
   "source": [
    "df = df[['game_date', 'pitcher','pitch_type','p_throws', 'release_speed', 'batter', 'stand','launch_speed', 'launch_angle','game_pk', 'hit']]"
   ]
  },
  {
   "cell_type": "code",
   "execution_count": 125,
   "metadata": {},
   "outputs": [
    {
     "data": {
      "text/html": [
       "<div>\n",
       "<style scoped>\n",
       "    .dataframe tbody tr th:only-of-type {\n",
       "        vertical-align: middle;\n",
       "    }\n",
       "\n",
       "    .dataframe tbody tr th {\n",
       "        vertical-align: top;\n",
       "    }\n",
       "\n",
       "    .dataframe thead th {\n",
       "        text-align: right;\n",
       "    }\n",
       "</style>\n",
       "<table border=\"1\" class=\"dataframe\">\n",
       "  <thead>\n",
       "    <tr style=\"text-align: right;\">\n",
       "      <th></th>\n",
       "      <th>game_date</th>\n",
       "      <th>pitcher</th>\n",
       "      <th>pitch_type</th>\n",
       "      <th>p_throws</th>\n",
       "      <th>release_speed</th>\n",
       "      <th>batter</th>\n",
       "      <th>stand</th>\n",
       "      <th>launch_speed</th>\n",
       "      <th>launch_angle</th>\n",
       "      <th>game_pk</th>\n",
       "      <th>hit</th>\n",
       "    </tr>\n",
       "  </thead>\n",
       "  <tbody>\n",
       "    <tr>\n",
       "      <td>0</td>\n",
       "      <td>2019-09-29</td>\n",
       "      <td>607188</td>\n",
       "      <td>SL</td>\n",
       "      <td>R</td>\n",
       "      <td>83.8</td>\n",
       "      <td>602074</td>\n",
       "      <td>R</td>\n",
       "      <td>40.0</td>\n",
       "      <td>-36.0</td>\n",
       "      <td>565493</td>\n",
       "      <td>0</td>\n",
       "    </tr>\n",
       "    <tr>\n",
       "      <td>1</td>\n",
       "      <td>2019-09-29</td>\n",
       "      <td>543766</td>\n",
       "      <td>FC</td>\n",
       "      <td>R</td>\n",
       "      <td>94.6</td>\n",
       "      <td>621438</td>\n",
       "      <td>R</td>\n",
       "      <td>77.8</td>\n",
       "      <td>-37.3</td>\n",
       "      <td>565493</td>\n",
       "      <td>1</td>\n",
       "    </tr>\n",
       "    <tr>\n",
       "      <td>2</td>\n",
       "      <td>2019-09-29</td>\n",
       "      <td>543766</td>\n",
       "      <td>FC</td>\n",
       "      <td>R</td>\n",
       "      <td>92.9</td>\n",
       "      <td>592325</td>\n",
       "      <td>L</td>\n",
       "      <td>80.6</td>\n",
       "      <td>35.5</td>\n",
       "      <td>565493</td>\n",
       "      <td>1</td>\n",
       "    </tr>\n",
       "    <tr>\n",
       "      <td>3</td>\n",
       "      <td>2019-09-29</td>\n",
       "      <td>519076</td>\n",
       "      <td>SI</td>\n",
       "      <td>R</td>\n",
       "      <td>93.8</td>\n",
       "      <td>641658</td>\n",
       "      <td>R</td>\n",
       "      <td>106.6</td>\n",
       "      <td>14.2</td>\n",
       "      <td>565493</td>\n",
       "      <td>1</td>\n",
       "    </tr>\n",
       "    <tr>\n",
       "      <td>4</td>\n",
       "      <td>2019-09-29</td>\n",
       "      <td>519076</td>\n",
       "      <td>FF</td>\n",
       "      <td>R</td>\n",
       "      <td>94.0</td>\n",
       "      <td>460077</td>\n",
       "      <td>R</td>\n",
       "      <td>86.9</td>\n",
       "      <td>44.3</td>\n",
       "      <td>565493</td>\n",
       "      <td>1</td>\n",
       "    </tr>\n",
       "    <tr>\n",
       "      <td>...</td>\n",
       "      <td>...</td>\n",
       "      <td>...</td>\n",
       "      <td>...</td>\n",
       "      <td>...</td>\n",
       "      <td>...</td>\n",
       "      <td>...</td>\n",
       "      <td>...</td>\n",
       "      <td>...</td>\n",
       "      <td>...</td>\n",
       "      <td>...</td>\n",
       "      <td>...</td>\n",
       "    </tr>\n",
       "    <tr>\n",
       "      <td>39995</td>\n",
       "      <td>2019-08-02</td>\n",
       "      <td>501925</td>\n",
       "      <td>CH</td>\n",
       "      <td>R</td>\n",
       "      <td>78.7</td>\n",
       "      <td>605480</td>\n",
       "      <td>L</td>\n",
       "      <td>71.9</td>\n",
       "      <td>47.7</td>\n",
       "      <td>565659</td>\n",
       "      <td>1</td>\n",
       "    </tr>\n",
       "    <tr>\n",
       "      <td>39996</td>\n",
       "      <td>2019-08-02</td>\n",
       "      <td>453284</td>\n",
       "      <td>FS</td>\n",
       "      <td>R</td>\n",
       "      <td>78.9</td>\n",
       "      <td>641477</td>\n",
       "      <td>R</td>\n",
       "      <td>61.2</td>\n",
       "      <td>64.9</td>\n",
       "      <td>567116</td>\n",
       "      <td>1</td>\n",
       "    </tr>\n",
       "    <tr>\n",
       "      <td>39997</td>\n",
       "      <td>2019-08-02</td>\n",
       "      <td>501925</td>\n",
       "      <td>SI</td>\n",
       "      <td>R</td>\n",
       "      <td>86.9</td>\n",
       "      <td>542979</td>\n",
       "      <td>R</td>\n",
       "      <td>104.8</td>\n",
       "      <td>0.1</td>\n",
       "      <td>565659</td>\n",
       "      <td>1</td>\n",
       "    </tr>\n",
       "    <tr>\n",
       "      <td>39998</td>\n",
       "      <td>2019-08-02</td>\n",
       "      <td>665093</td>\n",
       "      <td>FS</td>\n",
       "      <td>R</td>\n",
       "      <td>82.2</td>\n",
       "      <td>488726</td>\n",
       "      <td>L</td>\n",
       "      <td>97.4</td>\n",
       "      <td>-1.4</td>\n",
       "      <td>565659</td>\n",
       "      <td>1</td>\n",
       "    </tr>\n",
       "    <tr>\n",
       "      <td>39999</td>\n",
       "      <td>2019-08-02</td>\n",
       "      <td>517008</td>\n",
       "      <td>FC</td>\n",
       "      <td>R</td>\n",
       "      <td>89.9</td>\n",
       "      <td>664068</td>\n",
       "      <td>R</td>\n",
       "      <td>82.9</td>\n",
       "      <td>-20.7</td>\n",
       "      <td>567116</td>\n",
       "      <td>1</td>\n",
       "    </tr>\n",
       "  </tbody>\n",
       "</table>\n",
       "<p>40000 rows × 11 columns</p>\n",
       "</div>"
      ],
      "text/plain": [
       "        game_date  pitcher pitch_type p_throws  release_speed  batter stand  \\\n",
       "0      2019-09-29   607188         SL        R           83.8  602074     R   \n",
       "1      2019-09-29   543766         FC        R           94.6  621438     R   \n",
       "2      2019-09-29   543766         FC        R           92.9  592325     L   \n",
       "3      2019-09-29   519076         SI        R           93.8  641658     R   \n",
       "4      2019-09-29   519076         FF        R           94.0  460077     R   \n",
       "...           ...      ...        ...      ...            ...     ...   ...   \n",
       "39995  2019-08-02   501925         CH        R           78.7  605480     L   \n",
       "39996  2019-08-02   453284         FS        R           78.9  641477     R   \n",
       "39997  2019-08-02   501925         SI        R           86.9  542979     R   \n",
       "39998  2019-08-02   665093         FS        R           82.2  488726     L   \n",
       "39999  2019-08-02   517008         FC        R           89.9  664068     R   \n",
       "\n",
       "       launch_speed  launch_angle  game_pk  hit  \n",
       "0              40.0         -36.0   565493    0  \n",
       "1              77.8         -37.3   565493    1  \n",
       "2              80.6          35.5   565493    1  \n",
       "3             106.6          14.2   565493    1  \n",
       "4              86.9          44.3   565493    1  \n",
       "...             ...           ...      ...  ...  \n",
       "39995          71.9          47.7   565659    1  \n",
       "39996          61.2          64.9   567116    1  \n",
       "39997         104.8           0.1   565659    1  \n",
       "39998          97.4          -1.4   565659    1  \n",
       "39999          82.9         -20.7   567116    1  \n",
       "\n",
       "[40000 rows x 11 columns]"
      ]
     },
     "execution_count": 125,
     "metadata": {},
     "output_type": "execute_result"
    }
   ],
   "source": [
    "df"
   ]
  },
  {
   "cell_type": "code",
   "execution_count": 123,
   "metadata": {
    "scrolled": true
   },
   "outputs": [],
   "source": [
    "check = df.loc[df['batter']==605612]"
   ]
  },
  {
   "cell_type": "code",
   "execution_count": 124,
   "metadata": {},
   "outputs": [
    {
     "data": {
      "text/plain": [
       "2019-08-06    9\n",
       "2019-09-05    5\n",
       "2019-08-03    5\n",
       "2019-09-06    5\n",
       "2019-08-23    5\n",
       "2019-09-10    5\n",
       "2019-09-07    4\n",
       "2019-09-02    4\n",
       "2019-08-08    4\n",
       "2019-09-13    4\n",
       "2019-09-15    4\n",
       "2019-09-20    4\n",
       "2019-08-14    4\n",
       "2019-08-18    4\n",
       "2019-09-24    4\n",
       "2019-09-14    4\n",
       "2019-08-11    4\n",
       "2019-09-12    4\n",
       "2019-09-19    4\n",
       "2019-09-22    3\n",
       "2019-08-20    3\n",
       "2019-08-05    3\n",
       "2019-09-21    3\n",
       "2019-08-29    3\n",
       "2019-08-30    3\n",
       "2019-08-24    3\n",
       "2019-08-07    3\n",
       "2019-09-04    3\n",
       "2019-09-17    3\n",
       "2019-08-27    3\n",
       "2019-09-18    3\n",
       "2019-08-04    3\n",
       "2019-08-09    3\n",
       "2019-08-15    3\n",
       "2019-09-01    2\n",
       "2019-08-25    2\n",
       "2019-08-16    2\n",
       "2019-09-25    2\n",
       "2019-08-21    2\n",
       "2019-08-10    1\n",
       "2019-08-22    1\n",
       "2019-09-28    1\n",
       "2019-08-19    1\n",
       "2019-09-03    1\n",
       "Name: game_date, dtype: int64"
      ]
     },
     "execution_count": 124,
     "metadata": {},
     "output_type": "execute_result"
    }
   ],
   "source": [
    "check['game_date'].value_counts()"
   ]
  },
  {
   "cell_type": "markdown",
   "metadata": {},
   "source": [
    "# STEP 2: Explore and Visualize"
   ]
  },
  {
   "cell_type": "code",
   "execution_count": 11,
   "metadata": {},
   "outputs": [
    {
     "data": {
      "text/plain": [
       "Text(0.5,1,'Number of Hits/Non-Hits in the Data')"
      ]
     },
     "execution_count": 11,
     "metadata": {},
     "output_type": "execute_result"
    },
    {
     "data": {
      "image/png": "[encoded data removed]",
      "text/plain": [
       "<Figure size 576x432 with 1 Axes>"
      ]
     },
     "metadata": {
      "needs_background": "light"
     },
     "output_type": "display_data"
    }
   ],
   "source": [
    "# Visualize the difference between the averages of the control and the mean\n",
    "\n",
    "plt.figure(figsize=(8,6))\n",
    "X = ['Hit', 'Non-Hit']\n",
    "y = df['hit'].value_counts()\n",
    "plt.bar(X,y, color=('navy','grey'))\n",
    "plt.text(s=round(y[1],2), x=1, y=10, color=\"w\", horizontalalignment='center',size=18)\n",
    "plt.text(s=round(y[0],2), x=0, y=10, color=\"w\", horizontalalignment='center',size=18)\n",
    "plt.ylabel('Frequency')\n",
    "plt.title('Number of Hits/Non-Hits in the Data')"
   ]
  },
  {
   "cell_type": "markdown",
   "metadata": {},
   "source": [
    "# STEP 2a. Questions"
   ]
  },
  {
   "cell_type": "markdown",
   "metadata": {},
   "source": [
    "Of all the players in the dataset:\n",
    "\n",
    "- Who has the most hits?\n",
    "- Who hit the ball the hardest?\n",
    "- What is the distribution of hits?"
   ]
  },
  {
   "cell_type": "code",
   "execution_count": 12,
   "metadata": {},
   "outputs": [],
   "source": [
    "# Function to visualize and compare two distributions\n",
    "\n",
    "def visualization(hits, non_hits):\n",
    "    plt.figure(figsize=[10,6])\n",
    "    sns.distplot(hits, color='blue', label='Hits', bins = 50)\n",
    "    plt.axvline(hits.mean(), color='darkblue', label='Hits Mean')\n",
    "    sns.distplot(non_hits, color='green', label='Non_hits', bins = 50)\n",
    "    plt.axvline(non_hits.mean(), color='darkgreen', label='Non_hits Mean')\n",
    "    plt.legend()\n",
    "    plt.title('Hits vs. Non_hits Launch Angle')\n",
    "    plt.xlabel('Distribution')\n",
    "    plt.ylabel('Frequency')\n",
    "    plt.show()"
   ]
  },
  {
   "cell_type": "code",
   "execution_count": 13,
   "metadata": {},
   "outputs": [
    {
     "data": {
      "image/png": "[encoded data removed]",
      "text/plain": [
       "<Figure size 720x432 with 1 Axes>"
      ]
     },
     "metadata": {
      "needs_background": "light"
     },
     "output_type": "display_data"
    }
   ],
   "source": [
    "visualization(df.loc[df['hit']==1]['launch_angle'], df.loc[df['hit']==0]['launch_angle'])"
   ]
  },
  {
   "cell_type": "code",
   "execution_count": null,
   "metadata": {},
   "outputs": [],
   "source": []
  },
  {
   "cell_type": "code",
   "execution_count": null,
   "metadata": {},
   "outputs": [],
   "source": []
  },
  {
   "cell_type": "code",
   "execution_count": null,
   "metadata": {},
   "outputs": [],
   "source": []
  },
  {
   "cell_type": "code",
   "execution_count": 72,
   "metadata": {},
   "outputs": [
    {
     "data": {
      "text/html": [
       "<div>\n",
       "<style scoped>\n",
       "    .dataframe tbody tr th:only-of-type {\n",
       "        vertical-align: middle;\n",
       "    }\n",
       "\n",
       "    .dataframe tbody tr th {\n",
       "        vertical-align: top;\n",
       "    }\n",
       "\n",
       "    .dataframe thead th {\n",
       "        text-align: right;\n",
       "    }\n",
       "</style>\n",
       "<table border=\"1\" class=\"dataframe\">\n",
       "  <thead>\n",
       "    <tr style=\"text-align: right;\">\n",
       "      <th></th>\n",
       "      <th>game_date</th>\n",
       "      <th>pitcher</th>\n",
       "      <th>pitch_type</th>\n",
       "      <th>p_throws</th>\n",
       "      <th>release_speed</th>\n",
       "      <th>batter</th>\n",
       "      <th>stand</th>\n",
       "      <th>launch_speed</th>\n",
       "      <th>launch_angle</th>\n",
       "      <th>game_pk</th>\n",
       "      <th>hit</th>\n",
       "    </tr>\n",
       "  </thead>\n",
       "  <tbody>\n",
       "    <tr>\n",
       "      <td>0</td>\n",
       "      <td>58</td>\n",
       "      <td>607188</td>\n",
       "      <td>SL</td>\n",
       "      <td>R</td>\n",
       "      <td>83.8</td>\n",
       "      <td>602074</td>\n",
       "      <td>R</td>\n",
       "      <td>40.0</td>\n",
       "      <td>-36.0</td>\n",
       "      <td>565493</td>\n",
       "      <td>0</td>\n",
       "    </tr>\n",
       "    <tr>\n",
       "      <td>1</td>\n",
       "      <td>58</td>\n",
       "      <td>543766</td>\n",
       "      <td>FC</td>\n",
       "      <td>R</td>\n",
       "      <td>94.6</td>\n",
       "      <td>621438</td>\n",
       "      <td>R</td>\n",
       "      <td>77.8</td>\n",
       "      <td>-37.3</td>\n",
       "      <td>565493</td>\n",
       "      <td>1</td>\n",
       "    </tr>\n",
       "    <tr>\n",
       "      <td>2</td>\n",
       "      <td>58</td>\n",
       "      <td>543766</td>\n",
       "      <td>FC</td>\n",
       "      <td>R</td>\n",
       "      <td>92.9</td>\n",
       "      <td>592325</td>\n",
       "      <td>L</td>\n",
       "      <td>80.6</td>\n",
       "      <td>35.5</td>\n",
       "      <td>565493</td>\n",
       "      <td>1</td>\n",
       "    </tr>\n",
       "    <tr>\n",
       "      <td>3</td>\n",
       "      <td>58</td>\n",
       "      <td>519076</td>\n",
       "      <td>SI</td>\n",
       "      <td>R</td>\n",
       "      <td>93.8</td>\n",
       "      <td>641658</td>\n",
       "      <td>R</td>\n",
       "      <td>106.6</td>\n",
       "      <td>14.2</td>\n",
       "      <td>565493</td>\n",
       "      <td>1</td>\n",
       "    </tr>\n",
       "    <tr>\n",
       "      <td>4</td>\n",
       "      <td>58</td>\n",
       "      <td>519076</td>\n",
       "      <td>FF</td>\n",
       "      <td>R</td>\n",
       "      <td>94.0</td>\n",
       "      <td>460077</td>\n",
       "      <td>R</td>\n",
       "      <td>86.9</td>\n",
       "      <td>44.3</td>\n",
       "      <td>565493</td>\n",
       "      <td>1</td>\n",
       "    </tr>\n",
       "    <tr>\n",
       "      <td>...</td>\n",
       "      <td>...</td>\n",
       "      <td>...</td>\n",
       "      <td>...</td>\n",
       "      <td>...</td>\n",
       "      <td>...</td>\n",
       "      <td>...</td>\n",
       "      <td>...</td>\n",
       "      <td>...</td>\n",
       "      <td>...</td>\n",
       "      <td>...</td>\n",
       "      <td>...</td>\n",
       "    </tr>\n",
       "    <tr>\n",
       "      <td>39995</td>\n",
       "      <td>0</td>\n",
       "      <td>501925</td>\n",
       "      <td>CH</td>\n",
       "      <td>R</td>\n",
       "      <td>78.7</td>\n",
       "      <td>605480</td>\n",
       "      <td>L</td>\n",
       "      <td>71.9</td>\n",
       "      <td>47.7</td>\n",
       "      <td>565659</td>\n",
       "      <td>1</td>\n",
       "    </tr>\n",
       "    <tr>\n",
       "      <td>39996</td>\n",
       "      <td>0</td>\n",
       "      <td>453284</td>\n",
       "      <td>FS</td>\n",
       "      <td>R</td>\n",
       "      <td>78.9</td>\n",
       "      <td>641477</td>\n",
       "      <td>R</td>\n",
       "      <td>61.2</td>\n",
       "      <td>64.9</td>\n",
       "      <td>567116</td>\n",
       "      <td>1</td>\n",
       "    </tr>\n",
       "    <tr>\n",
       "      <td>39997</td>\n",
       "      <td>0</td>\n",
       "      <td>501925</td>\n",
       "      <td>SI</td>\n",
       "      <td>R</td>\n",
       "      <td>86.9</td>\n",
       "      <td>542979</td>\n",
       "      <td>R</td>\n",
       "      <td>104.8</td>\n",
       "      <td>0.1</td>\n",
       "      <td>565659</td>\n",
       "      <td>1</td>\n",
       "    </tr>\n",
       "    <tr>\n",
       "      <td>39998</td>\n",
       "      <td>0</td>\n",
       "      <td>665093</td>\n",
       "      <td>FS</td>\n",
       "      <td>R</td>\n",
       "      <td>82.2</td>\n",
       "      <td>488726</td>\n",
       "      <td>L</td>\n",
       "      <td>97.4</td>\n",
       "      <td>-1.4</td>\n",
       "      <td>565659</td>\n",
       "      <td>1</td>\n",
       "    </tr>\n",
       "    <tr>\n",
       "      <td>39999</td>\n",
       "      <td>0</td>\n",
       "      <td>517008</td>\n",
       "      <td>FC</td>\n",
       "      <td>R</td>\n",
       "      <td>89.9</td>\n",
       "      <td>664068</td>\n",
       "      <td>R</td>\n",
       "      <td>82.9</td>\n",
       "      <td>-20.7</td>\n",
       "      <td>567116</td>\n",
       "      <td>1</td>\n",
       "    </tr>\n",
       "  </tbody>\n",
       "</table>\n",
       "<p>39816 rows × 11 columns</p>\n",
       "</div>"
      ],
      "text/plain": [
       "       game_date  pitcher pitch_type p_throws  release_speed  batter stand  \\\n",
       "0             58   607188         SL        R           83.8  602074     R   \n",
       "1             58   543766         FC        R           94.6  621438     R   \n",
       "2             58   543766         FC        R           92.9  592325     L   \n",
       "3             58   519076         SI        R           93.8  641658     R   \n",
       "4             58   519076         FF        R           94.0  460077     R   \n",
       "...          ...      ...        ...      ...            ...     ...   ...   \n",
       "39995          0   501925         CH        R           78.7  605480     L   \n",
       "39996          0   453284         FS        R           78.9  641477     R   \n",
       "39997          0   501925         SI        R           86.9  542979     R   \n",
       "39998          0   665093         FS        R           82.2  488726     L   \n",
       "39999          0   517008         FC        R           89.9  664068     R   \n",
       "\n",
       "       launch_speed  launch_angle  game_pk  hit  \n",
       "0              40.0         -36.0   565493    0  \n",
       "1              77.8         -37.3   565493    1  \n",
       "2              80.6          35.5   565493    1  \n",
       "3             106.6          14.2   565493    1  \n",
       "4              86.9          44.3   565493    1  \n",
       "...             ...           ...      ...  ...  \n",
       "39995          71.9          47.7   565659    1  \n",
       "39996          61.2          64.9   567116    1  \n",
       "39997         104.8           0.1   565659    1  \n",
       "39998          97.4          -1.4   565659    1  \n",
       "39999          82.9         -20.7   567116    1  \n",
       "\n",
       "[39816 rows x 11 columns]"
      ]
     },
     "execution_count": 72,
     "metadata": {},
     "output_type": "execute_result"
    }
   ],
   "source": [
    "df"
   ]
  },
  {
   "cell_type": "code",
   "execution_count": 81,
   "metadata": {},
   "outputs": [
    {
     "data": {
      "text/plain": [
       "game_date          int64\n",
       "pitcher            int64\n",
       "pitch_type         int64\n",
       "p_throws           int64\n",
       "release_speed    float64\n",
       "batter             int64\n",
       "stand              int64\n",
       "launch_speed     float64\n",
       "launch_angle     float64\n",
       "game_pk            int64\n",
       "hit                int64\n",
       "dtype: object"
      ]
     },
     "execution_count": 81,
     "metadata": {},
     "output_type": "execute_result"
    }
   ],
   "source": [
    "df.dtypes"
   ]
  },
  {
   "cell_type": "code",
   "execution_count": 80,
   "metadata": {},
   "outputs": [],
   "source": [
    "le = preprocessing.LabelEncoder()\n",
    "df[['game_date']] = df[['game_date']].apply(le.fit_transform)\n",
    "df[['pitch_type']] = df[['pitch_type']].apply(le.fit_transform)\n",
    "df[['p_throws']] = df[['p_throws']].apply(le.fit_transform)\n",
    "df[['pitch_type']] = df[['pitch_type']].apply(le.fit_transform)\n",
    "df[['stand']] = df[['stand']].apply(le.fit_transform)"
   ]
  },
  {
   "cell_type": "code",
   "execution_count": 82,
   "metadata": {},
   "outputs": [],
   "source": [
    "df = df.dropna()\n",
    "\n",
    "# Subsetting target variable\n",
    "target = df['hit']\n",
    "\n",
    "# Preparing features\n",
    "features = df.drop(['hit'], axis = 1, inplace = False)\n"
   ]
  },
  {
   "cell_type": "code",
   "execution_count": 83,
   "metadata": {
    "scrolled": true
   },
   "outputs": [
    {
     "data": {
      "text/plain": [
       "game_date        0\n",
       "pitcher          0\n",
       "pitch_type       0\n",
       "p_throws         0\n",
       "release_speed    0\n",
       "batter           0\n",
       "stand            0\n",
       "launch_speed     0\n",
       "launch_angle     0\n",
       "game_pk          0\n",
       "hit              0\n",
       "dtype: int64"
      ]
     },
     "execution_count": 83,
     "metadata": {},
     "output_type": "execute_result"
    }
   ],
   "source": [
    "df.isna().sum()"
   ]
  },
  {
   "cell_type": "code",
   "execution_count": 84,
   "metadata": {
    "scrolled": true
   },
   "outputs": [
    {
     "data": {
      "text/plain": [
       "(39816, 10)"
      ]
     },
     "execution_count": 84,
     "metadata": {},
     "output_type": "execute_result"
    }
   ],
   "source": [
    "features.shape"
   ]
  },
  {
   "cell_type": "code",
   "execution_count": 85,
   "metadata": {},
   "outputs": [],
   "source": [
    "X_test = features.tail(3000)\n",
    "y_test = target.tail(3000)\n",
    "\n",
    "X_train = features.head(37000)\n",
    "y_train = target.head(37000)"
   ]
  },
  {
   "cell_type": "code",
   "execution_count": 86,
   "metadata": {},
   "outputs": [],
   "source": [
    "# Testing/Trainging data split for model \n",
    "\n",
    "#X_train, X_test, y_train, y_test = train_test_split(features, target, test_size=0.20)"
   ]
  },
  {
   "cell_type": "code",
   "execution_count": 89,
   "metadata": {},
   "outputs": [
    {
     "name": "stderr",
     "output_type": "stream",
     "text": [
      "/Users/Kelly/anaconda3/lib/python3.7/site-packages/sklearn/ensemble/forest.py:245: FutureWarning: The default value of n_estimators will change from 10 in version 0.20 to 100 in 0.22.\n",
      "  \"10 in version 0.20 to 100 in 0.22.\", FutureWarning)\n"
     ]
    },
    {
     "name": "stdout",
     "output_type": "stream",
     "text": [
      "Vanilla Decision Tree\n",
      "------------------------------------------------------\n",
      "Training Accuracy: 100.0%\n",
      "Test Accuracy:     72.93%\n",
      "\n",
      "\n",
      "------------------------------------------------------\n",
      "\n",
      "\n",
      "Random Forest\n",
      "------------------------------------------------------\n",
      "Training Accuracy: 99.09%\n",
      "Test Accuracy:     77.37%\n",
      "\n",
      "\n",
      "------------------------------------------------------\n",
      "\n",
      "\n",
      "Adaboost\n",
      "------------------------------------------------------\n",
      "Training Accuracy: 77.95%\n",
      "Test Accuracy:     76.8%\n"
     ]
    }
   ],
   "source": [
    "### Model 1 - Decision Tree\n",
    "dt = DecisionTreeClassifier(random_state=10)  \n",
    "\n",
    "# train\n",
    "dt = dt.fit(X_train, y_train)\n",
    "\n",
    "# predict\n",
    "dt_train_preds = dt.predict(X_train)\n",
    "dt_test_preds = dt.predict(X_test)\n",
    "\n",
    "# evaluate\n",
    "dt_train_accuracy = accuracy_score(y_train, dt_train_preds)\n",
    "dt_test_accuracy = accuracy_score(y_test, dt_test_preds)\n",
    "\n",
    "# -------------------------------------------------------------\n",
    "\n",
    "### Model 2 - Random Forest\n",
    "rfc = RandomForestClassifier()\n",
    "\n",
    "# train\n",
    "rfc = rfc.fit(X_train, y_train)\n",
    "\n",
    "# predict\n",
    "rfc_train_preds = rfc.predict(X_train)\n",
    "rfc_test_preds = rfc.predict(X_test)\n",
    "\n",
    "# evaluate\n",
    "rfc_train_accuracy = accuracy_score(y_train, rfc_train_preds)\n",
    "rfc_test_accuracy = accuracy_score(y_test, rfc_test_preds)\n",
    "\n",
    "# -------------------------------------------------------------\n",
    "\n",
    "### Model 3 - Adaboost\n",
    "adaboost = AdaBoostClassifier()\n",
    "\n",
    "# train\n",
    "adaboost = adaboost.fit(X_train, y_train)\n",
    "\n",
    "# predict\n",
    "adaboost_train_preds = adaboost.predict(X_train)\n",
    "adaboost_test_preds = adaboost.predict(X_test)\n",
    "\n",
    "# evaluate\n",
    "adaboost_train_accuracy = accuracy_score(y_train, adaboost_train_preds)\n",
    "adaboost_test_accuracy = accuracy_score(y_test, adaboost_test_preds)\n",
    "\n",
    "# -------------------------------------------------------------\n",
    "print('Vanilla Decision Tree')\n",
    "print('------------------------------------------------------')\n",
    "print(f\"Training Accuracy: {(dt_train_accuracy * 100):.4}%\")\n",
    "print(f\"Test Accuracy:     {(dt_test_accuracy * 100):.4}%\")\n",
    "print('\\n')\n",
    "print('------------------------------------------------------')\n",
    "print('\\n')\n",
    "print('Random Forest')\n",
    "print('------------------------------------------------------')\n",
    "print(f\"Training Accuracy: {(rfc_train_accuracy * 100):.4}%\")\n",
    "print(f\"Test Accuracy:     {(rfc_test_accuracy * 100):.4}%\")\n",
    "print('\\n')\n",
    "print('------------------------------------------------------')\n",
    "print('\\n')\n",
    "print('Adaboost')\n",
    "print('------------------------------------------------------')\n",
    "print(f\"Training Accuracy: {(adaboost_train_accuracy * 100):.4}%\")\n",
    "print(f\"Test Accuracy:     {(adaboost_test_accuracy * 100):.4}%\")\n"
   ]
  },
  {
   "cell_type": "code",
   "execution_count": 95,
   "metadata": {},
   "outputs": [
    {
     "data": {
      "image/png": "[encoded data removed]",
      "text/plain": [
       "<Figure size 432x288 with 2 Axes>"
      ]
     },
     "metadata": {
      "needs_background": "light"
     },
     "output_type": "display_data"
    }
   ],
   "source": [
    "show_cf(y_test, dt_test_preds)"
   ]
  },
  {
   "cell_type": "code",
   "execution_count": 96,
   "metadata": {},
   "outputs": [
    {
     "name": "stdout",
     "output_type": "stream",
     "text": [
      "feat importance = [0.02937069 0.0349246  0.01204461 0.00381299 0.03528218 0.03554008\n",
      " 0.00482471 0.12720957 0.12714142 0.03769338]\n"
     ]
    }
   ],
   "source": [
    "feat_importance = dt.tree_.compute_feature_importances(normalize=False)\n",
    "print(\"feat importance = \" + str(feat_importance))"
   ]
  },
  {
   "cell_type": "code",
   "execution_count": 98,
   "metadata": {},
   "outputs": [
    {
     "data": {
      "image/png": "[encoded data removed]",
      "text/plain": [
       "<Figure size 432x576 with 1 Axes>"
      ]
     },
     "metadata": {
      "needs_background": "light"
     },
     "output_type": "display_data"
    }
   ],
   "source": [
    "plot_feature_importances(dt)"
   ]
  },
  {
   "cell_type": "code",
   "execution_count": 99,
   "metadata": {
    "scrolled": true
   },
   "outputs": [
    {
     "data": {
      "image/png": "[encoded data removed]",
      "text/plain": [
       "<Figure size 432x288 with 2 Axes>"
      ]
     },
     "metadata": {
      "needs_background": "light"
     },
     "output_type": "display_data"
    }
   ],
   "source": [
    "show_cf(y_test, rfc_test_preds)"
   ]
  },
  {
   "cell_type": "code",
   "execution_count": 100,
   "metadata": {},
   "outputs": [
    {
     "data": {
      "image/png": "[encoded data removed]",
      "text/plain": [
       "<Figure size 432x576 with 1 Axes>"
      ]
     },
     "metadata": {
      "needs_background": "light"
     },
     "output_type": "display_data"
    }
   ],
   "source": [
    "plot_feature_importances(rfc)"
   ]
  },
  {
   "cell_type": "code",
   "execution_count": 102,
   "metadata": {},
   "outputs": [
    {
     "data": {
      "image/png": "[encoded data removed]",
      "text/plain": [
       "<Figure size 432x288 with 2 Axes>"
      ]
     },
     "metadata": {
      "needs_background": "light"
     },
     "output_type": "display_data"
    }
   ],
   "source": [
    "show_cf(y_test, adaboost_test_preds)"
   ]
  },
  {
   "cell_type": "code",
   "execution_count": 103,
   "metadata": {},
   "outputs": [
    {
     "data": {
      "image/png": "[encoded data removed]",
      "text/plain": [
       "<Figure size 432x576 with 1 Axes>"
      ]
     },
     "metadata": {
      "needs_background": "light"
     },
     "output_type": "display_data"
    }
   ],
   "source": [
    "plot_feature_importances(adaboost)"
   ]
  },
  {
   "cell_type": "code",
   "execution_count": 106,
   "metadata": {},
   "outputs": [
    {
     "name": "stderr",
     "output_type": "stream",
     "text": [
      "/Users/Kelly/anaconda3/lib/python3.7/site-packages/ipykernel_launcher.py:1: SettingWithCopyWarning: \n",
      "A value is trying to be set on a copy of a slice from a DataFrame.\n",
      "Try using .loc[row_indexer,col_indexer] = value instead\n",
      "\n",
      "See the caveats in the documentation: http://pandas.pydata.org/pandas-docs/stable/user_guide/indexing.html#returning-a-view-versus-a-copy\n",
      "  \"\"\"Entry point for launching an IPython kernel.\n"
     ]
    }
   ],
   "source": [
    "X_test['preds'] = adaboost_test_preds"
   ]
  },
  {
   "cell_type": "code",
   "execution_count": 108,
   "metadata": {},
   "outputs": [
    {
     "name": "stderr",
     "output_type": "stream",
     "text": [
      "/Users/Kelly/anaconda3/lib/python3.7/site-packages/ipykernel_launcher.py:1: SettingWithCopyWarning: \n",
      "A value is trying to be set on a copy of a slice from a DataFrame.\n",
      "Try using .loc[row_indexer,col_indexer] = value instead\n",
      "\n",
      "See the caveats in the documentation: http://pandas.pydata.org/pandas-docs/stable/user_guide/indexing.html#returning-a-view-versus-a-copy\n",
      "  \"\"\"Entry point for launching an IPython kernel.\n"
     ]
    }
   ],
   "source": [
    "X_test['hit'] = y_test"
   ]
  },
  {
   "cell_type": "code",
   "execution_count": 110,
   "metadata": {},
   "outputs": [],
   "source": [
    "check = X_test.loc[X_test['game_date']==4]"
   ]
  },
  {
   "cell_type": "code",
   "execution_count": 115,
   "metadata": {},
   "outputs": [
    {
     "data": {
      "text/html": [
       "<div>\n",
       "<style scoped>\n",
       "    .dataframe tbody tr th:only-of-type {\n",
       "        vertical-align: middle;\n",
       "    }\n",
       "\n",
       "    .dataframe tbody tr th {\n",
       "        vertical-align: top;\n",
       "    }\n",
       "\n",
       "    .dataframe thead th {\n",
       "        text-align: right;\n",
       "    }\n",
       "</style>\n",
       "<table border=\"1\" class=\"dataframe\">\n",
       "  <thead>\n",
       "    <tr style=\"text-align: right;\">\n",
       "      <th></th>\n",
       "      <th>game_date</th>\n",
       "      <th>pitcher</th>\n",
       "      <th>pitch_type</th>\n",
       "      <th>p_throws</th>\n",
       "      <th>release_speed</th>\n",
       "      <th>batter</th>\n",
       "      <th>stand</th>\n",
       "      <th>launch_speed</th>\n",
       "      <th>launch_angle</th>\n",
       "      <th>game_pk</th>\n",
       "      <th>preds</th>\n",
       "      <th>hit</th>\n",
       "    </tr>\n",
       "  </thead>\n",
       "  <tbody>\n",
       "    <tr>\n",
       "      <td>37017</td>\n",
       "      <td>4</td>\n",
       "      <td>607481</td>\n",
       "      <td>8</td>\n",
       "      <td>0</td>\n",
       "      <td>94.0</td>\n",
       "      <td>605612</td>\n",
       "      <td>0</td>\n",
       "      <td>71.0</td>\n",
       "      <td>-38.6</td>\n",
       "      <td>565520</td>\n",
       "      <td>1</td>\n",
       "      <td>1</td>\n",
       "    </tr>\n",
       "    <tr>\n",
       "      <td>37103</td>\n",
       "      <td>4</td>\n",
       "      <td>592229</td>\n",
       "      <td>0</td>\n",
       "      <td>1</td>\n",
       "      <td>85.5</td>\n",
       "      <td>605612</td>\n",
       "      <td>0</td>\n",
       "      <td>82.9</td>\n",
       "      <td>-20.7</td>\n",
       "      <td>565562</td>\n",
       "      <td>1</td>\n",
       "      <td>1</td>\n",
       "    </tr>\n",
       "    <tr>\n",
       "      <td>37273</td>\n",
       "      <td>4</td>\n",
       "      <td>656302</td>\n",
       "      <td>0</td>\n",
       "      <td>1</td>\n",
       "      <td>85.1</td>\n",
       "      <td>605612</td>\n",
       "      <td>0</td>\n",
       "      <td>80.0</td>\n",
       "      <td>33.5</td>\n",
       "      <td>565520</td>\n",
       "      <td>1</td>\n",
       "      <td>1</td>\n",
       "    </tr>\n",
       "    <tr>\n",
       "      <td>37304</td>\n",
       "      <td>4</td>\n",
       "      <td>502327</td>\n",
       "      <td>9</td>\n",
       "      <td>0</td>\n",
       "      <td>84.7</td>\n",
       "      <td>605612</td>\n",
       "      <td>0</td>\n",
       "      <td>78.9</td>\n",
       "      <td>34.1</td>\n",
       "      <td>565562</td>\n",
       "      <td>1</td>\n",
       "      <td>1</td>\n",
       "    </tr>\n",
       "    <tr>\n",
       "      <td>37403</td>\n",
       "      <td>4</td>\n",
       "      <td>656302</td>\n",
       "      <td>4</td>\n",
       "      <td>1</td>\n",
       "      <td>96.9</td>\n",
       "      <td>605612</td>\n",
       "      <td>0</td>\n",
       "      <td>77.5</td>\n",
       "      <td>25.8</td>\n",
       "      <td>565520</td>\n",
       "      <td>1</td>\n",
       "      <td>1</td>\n",
       "    </tr>\n",
       "    <tr>\n",
       "      <td>37478</td>\n",
       "      <td>4</td>\n",
       "      <td>502327</td>\n",
       "      <td>9</td>\n",
       "      <td>0</td>\n",
       "      <td>85.3</td>\n",
       "      <td>605612</td>\n",
       "      <td>0</td>\n",
       "      <td>93.4</td>\n",
       "      <td>43.5</td>\n",
       "      <td>565562</td>\n",
       "      <td>1</td>\n",
       "      <td>1</td>\n",
       "    </tr>\n",
       "  </tbody>\n",
       "</table>\n",
       "</div>"
      ],
      "text/plain": [
       "       game_date  pitcher  pitch_type  p_throws  release_speed  batter  stand  \\\n",
       "37017          4   607481           8         0           94.0  605612      0   \n",
       "37103          4   592229           0         1           85.5  605612      0   \n",
       "37273          4   656302           0         1           85.1  605612      0   \n",
       "37304          4   502327           9         0           84.7  605612      0   \n",
       "37403          4   656302           4         1           96.9  605612      0   \n",
       "37478          4   502327           9         0           85.3  605612      0   \n",
       "\n",
       "       launch_speed  launch_angle  game_pk  preds  hit  \n",
       "37017          71.0         -38.6   565520      1    1  \n",
       "37103          82.9         -20.7   565562      1    1  \n",
       "37273          80.0          33.5   565520      1    1  \n",
       "37304          78.9          34.1   565562      1    1  \n",
       "37403          77.5          25.8   565520      1    1  \n",
       "37478          93.4          43.5   565562      1    1  "
      ]
     },
     "execution_count": 115,
     "metadata": {},
     "output_type": "execute_result"
    }
   ],
   "source": [
    "check = check.loc[(check['hit']==1)&(check['preds']==1)]\n",
    "check.loc[check['batter']==605612]"
   ]
  },
  {
   "cell_type": "code",
   "execution_count": 113,
   "metadata": {},
   "outputs": [
    {
     "data": {
      "text/plain": [
       "605612    7\n",
       "547989    6\n",
       "608475    6\n",
       "544725    6\n",
       "641553    5\n",
       "         ..\n",
       "445988    1\n",
       "501981    1\n",
       "572761    1\n",
       "641487    1\n",
       "641598    1\n",
       "Name: batter, Length: 264, dtype: int64"
      ]
     },
     "execution_count": 113,
     "metadata": {},
     "output_type": "execute_result"
    }
   ],
   "source": [
    "check['batter'].value_counts()"
   ]
  },
  {
   "cell_type": "code",
   "execution_count": null,
   "metadata": {},
   "outputs": [],
   "source": []
  }
 ],
 "metadata": {
  "kernelspec": {
   "display_name": "Python 3",
   "language": "python",
   "name": "python3"
  },
  "language_info": {
   "codemirror_mode": {
    "name": "ipython",
    "version": 3
   },
   "file_extension": ".py",
   "mimetype": "text/x-python",
   "name": "python",
   "nbconvert_exporter": "python",
   "pygments_lexer": "ipython3",
   "version": "3.7.4"
  }
 },
 "nbformat": 4,
 "nbformat_minor": 2
}
