{
 "cells": [
  {
   "cell_type": "markdown",
   "metadata": {},
   "source": [
    "# Objective:\n",
    "\n",
    "How can predictive modeling do with predicting players that will get a hit in a baseball game? First, in order to predict a hit, what variables can a model be trained on?\n",
    "\n",
    "# Outline:\n",
    "\n",
    "- STEP 1: Load and prepare the data\n",
    "- STEP 2: Explore and visualize"
   ]
  },
  {
   "cell_type": "code",
   "execution_count": 2,
   "metadata": {},
   "outputs": [],
   "source": [
    "# Imports\n",
    "import pandas as pd\n",
    "import seaborn as sns # plotting\n",
    "from statsmodels.graphics.gofplots import qqplot\n",
    "import itertools\n",
    "from sklearn.model_selection import train_test_split\n",
    "import matplotlib.pyplot as plt\n",
    "import numpy as np\n",
    "\n",
    "from sklearn.linear_model import LogisticRegression\n",
    "from sklearn.metrics import confusion_matrix\n",
    "\n",
    "from sklearn.tree import DecisionTreeClassifier\n",
    "from sklearn.ensemble import AdaBoostClassifier, GradientBoostingClassifier, BaggingClassifier, RandomForestClassifier\n",
    "\n",
    "from sklearn import metrics\n",
    "from sklearn.metrics import precision_score, recall_score, accuracy_score, f1_score, classification_report, roc_auc_score, roc_curve, auc"
   ]
  },
  {
   "cell_type": "code",
   "execution_count": 39,
   "metadata": {},
   "outputs": [],
   "source": [
    "# Function to visualize confusion matrix\n",
    "\n",
    "def show_cf(y_true, y_pred, class_names=None, model_name=None):\n",
    "    cf = confusion_matrix(y_true, y_pred)\n",
    "    plt.imshow(cf, cmap=plt.cm.Blues)\n",
    "    \n",
    "    if model_name:\n",
    "        plt.title(\"Confusion Matrix: {}\".format(model_name))\n",
    "    else:\n",
    "        plt.title(\"Confusion Matrix\")\n",
    "    plt.ylabel('True Label')\n",
    "    plt.xlabel('Predicted Label')\n",
    "    \n",
    "    class_names = set(y_true)\n",
    "    tick_marks = np.arange(len(class_names))\n",
    "    if class_names:\n",
    "        plt.xticks(tick_marks, class_names)\n",
    "        plt.yticks(tick_marks, class_names)\n",
    "    \n",
    "    thresh = cf.max() / 2.\n",
    "    \n",
    "    for i, j in itertools.product(range(cf.shape[0]), range(cf.shape[1])):\n",
    "        plt.text(j, i, cf[i, j], horizontalalignment='center', color='white' if cf[i, j] > thresh else 'black')\n",
    "\n",
    "    plt.colorbar()"
   ]
  },
  {
   "cell_type": "markdown",
   "metadata": {},
   "source": [
    "# Step 1: Load and Prepare\n",
    "\n",
    "What data can be downloaded each day to predict a hit? Baseball Savant's batted ball data from 2018 will give me 40,000 individual events. Let's explore and visualize what we have."
   ]
  },
  {
   "cell_type": "code",
   "execution_count": 3,
   "metadata": {},
   "outputs": [],
   "source": [
    "# Load data\n",
    "df = pd.read_csv('savant_dataTRAIN.csv')"
   ]
  },
  {
   "cell_type": "code",
   "execution_count": 4,
   "metadata": {},
   "outputs": [
    {
     "data": {
      "text/plain": [
       "(40000, 89)"
      ]
     },
     "execution_count": 4,
     "metadata": {},
     "output_type": "execute_result"
    }
   ],
   "source": [
    "# How much do we have?\n",
    "df.shape"
   ]
  },
  {
   "cell_type": "code",
   "execution_count": 5,
   "metadata": {
    "scrolled": true
   },
   "outputs": [
    {
     "data": {
      "text/plain": [
       "Index(['pitch_type', 'game_date', 'release_speed', 'release_pos_x',\n",
       "       'release_pos_z', 'player_name', 'batter', 'pitcher', 'events',\n",
       "       'description', 'spin_dir', 'spin_rate_deprecated',\n",
       "       'break_angle_deprecated', 'break_length_deprecated', 'zone', 'des',\n",
       "       'game_type', 'stand', 'p_throws', 'home_team', 'away_team', 'type',\n",
       "       'hit_location', 'bb_type', 'balls', 'strikes', 'game_year', 'pfx_x',\n",
       "       'pfx_z', 'plate_x', 'plate_z', 'on_3b', 'on_2b', 'on_1b',\n",
       "       'outs_when_up', 'inning', 'inning_topbot', 'hc_x', 'hc_y',\n",
       "       'tfs_deprecated', 'tfs_zulu_deprecated', 'fielder_2', 'umpire', 'sv_id',\n",
       "       'vx0', 'vy0', 'vz0', 'ax', 'ay', 'az', 'sz_top', 'sz_bot',\n",
       "       'hit_distance_sc', 'launch_speed', 'launch_angle', 'effective_speed',\n",
       "       'release_spin_rate', 'release_extension', 'game_pk', 'pitcher.1',\n",
       "       'fielder_2.1', 'fielder_3', 'fielder_4', 'fielder_5', 'fielder_6',\n",
       "       'fielder_7', 'fielder_8', 'fielder_9', 'release_pos_y',\n",
       "       'estimated_ba_using_speedangle', 'estimated_woba_using_speedangle',\n",
       "       'woba_value', 'woba_denom', 'babip_value', 'iso_value',\n",
       "       'launch_speed_angle', 'at_bat_number', 'pitch_number', 'pitch_name',\n",
       "       'home_score', 'away_score', 'bat_score', 'fld_score', 'post_away_score',\n",
       "       'post_home_score', 'post_bat_score', 'post_fld_score',\n",
       "       'if_fielding_alignment', 'of_fielding_alignment'],\n",
       "      dtype='object')"
      ]
     },
     "execution_count": 5,
     "metadata": {},
     "output_type": "execute_result"
    }
   ],
   "source": [
    "# What are the features?\n",
    "df.columns"
   ]
  },
  {
   "cell_type": "code",
   "execution_count": 6,
   "metadata": {},
   "outputs": [
    {
     "data": {
      "text/plain": [
       "89"
      ]
     },
     "execution_count": 6,
     "metadata": {},
     "output_type": "execute_result"
    }
   ],
   "source": [
    "# How many features do we have?\n",
    "len(df.columns)"
   ]
  },
  {
   "cell_type": "markdown",
   "metadata": {},
   "source": [
    "#### NOTE: \n",
    "\n",
    "We have a ton of data here for one individual at batted-ball event. An issue will be first, deciding what features are actually predictive of a hit and can train the model. However, those predictive features need to be able to be accessed in order to predict. For example, if I want to find out whether or not player A will get a hit before a game, I need to be able to run known values through the model. Therefore, I cannot use features that have not yet occured, like how hard the ball was hit, because they haven't happened yet."
   ]
  },
  {
   "cell_type": "markdown",
   "metadata": {},
   "source": [
    "# STEP 1a: Designate a target\n",
    "\n",
    "I'm trying to predict an outcome of a hit. Therefore, my model needs to have a categorical target, 0=non-hit and 1=hit."
   ]
  },
  {
   "cell_type": "code",
   "execution_count": 7,
   "metadata": {
    "scrolled": true
   },
   "outputs": [
    {
     "data": {
      "text/plain": [
       "array(['single', 'field_out', 'home_run', 'force_out', 'double',\n",
       "       'grounded_into_double_play', 'double_play', 'sac_fly', 'triple',\n",
       "       'fielders_choice_out', 'sac_bunt', 'fielders_choice',\n",
       "       'sac_fly_double_play', 'sac_bunt_double_play', 'triple_play'],\n",
       "      dtype=object)"
      ]
     },
     "execution_count": 7,
     "metadata": {},
     "output_type": "execute_result"
    }
   ],
   "source": [
    "# Categorize the events \n",
    "df['events'].unique()"
   ]
  },
  {
   "cell_type": "code",
   "execution_count": 8,
   "metadata": {},
   "outputs": [
    {
     "data": {
      "text/plain": [
       "array(['hit_into_play_no_out', 'hit_into_play', 'hit_into_play_score'],\n",
       "      dtype=object)"
      ]
     },
     "execution_count": 8,
     "metadata": {},
     "output_type": "execute_result"
    }
   ],
   "source": [
    "# Does description influence the hit/non-hit designation?\n",
    "df['description'].unique()"
   ]
  },
  {
   "cell_type": "code",
   "execution_count": 9,
   "metadata": {},
   "outputs": [],
   "source": [
    "# Here's a function to create my target column\n",
    "\n",
    "# Send the event colum to a list\n",
    "events = df['events'].to_list()\n",
    "# create a non-hit list\n",
    "non_hits = ['single', 'home_run', 'double', 'triple']\n",
    "\n",
    "# Run a loop that will label each instance as a hit/non-hit\n",
    "hit = []\n",
    "for i in events:\n",
    "    if i in non_hits:\n",
    "        x = 0\n",
    "    else:\n",
    "        x = 1\n",
    "    hit.append(x)\n",
    "\n",
    "# Add this new column back into the df\n",
    "df['hit'] = hit"
   ]
  },
  {
   "cell_type": "code",
   "execution_count": 10,
   "metadata": {},
   "outputs": [
    {
     "data": {
      "text/html": [
       "<div>\n",
       "<style scoped>\n",
       "    .dataframe tbody tr th:only-of-type {\n",
       "        vertical-align: middle;\n",
       "    }\n",
       "\n",
       "    .dataframe tbody tr th {\n",
       "        vertical-align: top;\n",
       "    }\n",
       "\n",
       "    .dataframe thead th {\n",
       "        text-align: right;\n",
       "    }\n",
       "</style>\n",
       "<table border=\"1\" class=\"dataframe\">\n",
       "  <thead>\n",
       "    <tr style=\"text-align: right;\">\n",
       "      <th></th>\n",
       "      <th>pitch_type</th>\n",
       "      <th>game_date</th>\n",
       "      <th>release_speed</th>\n",
       "      <th>release_pos_x</th>\n",
       "      <th>release_pos_z</th>\n",
       "      <th>player_name</th>\n",
       "      <th>batter</th>\n",
       "      <th>pitcher</th>\n",
       "      <th>events</th>\n",
       "      <th>description</th>\n",
       "      <th>...</th>\n",
       "      <th>away_score</th>\n",
       "      <th>bat_score</th>\n",
       "      <th>fld_score</th>\n",
       "      <th>post_away_score</th>\n",
       "      <th>post_home_score</th>\n",
       "      <th>post_bat_score</th>\n",
       "      <th>post_fld_score</th>\n",
       "      <th>if_fielding_alignment</th>\n",
       "      <th>of_fielding_alignment</th>\n",
       "      <th>hit</th>\n",
       "    </tr>\n",
       "  </thead>\n",
       "  <tbody>\n",
       "    <tr>\n",
       "      <td>0</td>\n",
       "      <td>SL</td>\n",
       "      <td>2019-09-29</td>\n",
       "      <td>83.8</td>\n",
       "      <td>-0.9456</td>\n",
       "      <td>6.2833</td>\n",
       "      <td>Jake Faria</td>\n",
       "      <td>602074</td>\n",
       "      <td>607188</td>\n",
       "      <td>single</td>\n",
       "      <td>hit_into_play_no_out</td>\n",
       "      <td>...</td>\n",
       "      <td>3</td>\n",
       "      <td>3</td>\n",
       "      <td>3</td>\n",
       "      <td>3</td>\n",
       "      <td>3</td>\n",
       "      <td>3</td>\n",
       "      <td>3</td>\n",
       "      <td>Standard</td>\n",
       "      <td>Standard</td>\n",
       "      <td>0</td>\n",
       "    </tr>\n",
       "    <tr>\n",
       "      <td>1</td>\n",
       "      <td>FC</td>\n",
       "      <td>2019-09-29</td>\n",
       "      <td>94.6</td>\n",
       "      <td>-2.5397</td>\n",
       "      <td>6.1040</td>\n",
       "      <td>Bryan Shaw</td>\n",
       "      <td>621438</td>\n",
       "      <td>543766</td>\n",
       "      <td>field_out</td>\n",
       "      <td>hit_into_play</td>\n",
       "      <td>...</td>\n",
       "      <td>3</td>\n",
       "      <td>3</td>\n",
       "      <td>3</td>\n",
       "      <td>3</td>\n",
       "      <td>3</td>\n",
       "      <td>3</td>\n",
       "      <td>3</td>\n",
       "      <td>Standard</td>\n",
       "      <td>Standard</td>\n",
       "      <td>1</td>\n",
       "    </tr>\n",
       "    <tr>\n",
       "      <td>2</td>\n",
       "      <td>FC</td>\n",
       "      <td>2019-09-29</td>\n",
       "      <td>92.9</td>\n",
       "      <td>-2.7475</td>\n",
       "      <td>6.0623</td>\n",
       "      <td>Bryan Shaw</td>\n",
       "      <td>592325</td>\n",
       "      <td>543766</td>\n",
       "      <td>field_out</td>\n",
       "      <td>hit_into_play</td>\n",
       "      <td>...</td>\n",
       "      <td>3</td>\n",
       "      <td>3</td>\n",
       "      <td>3</td>\n",
       "      <td>3</td>\n",
       "      <td>3</td>\n",
       "      <td>3</td>\n",
       "      <td>3</td>\n",
       "      <td>Standard</td>\n",
       "      <td>Standard</td>\n",
       "      <td>1</td>\n",
       "    </tr>\n",
       "    <tr>\n",
       "      <td>3</td>\n",
       "      <td>SI</td>\n",
       "      <td>2019-09-29</td>\n",
       "      <td>93.8</td>\n",
       "      <td>-1.4514</td>\n",
       "      <td>6.3377</td>\n",
       "      <td>Jimmy Nelson</td>\n",
       "      <td>641658</td>\n",
       "      <td>519076</td>\n",
       "      <td>field_out</td>\n",
       "      <td>hit_into_play</td>\n",
       "      <td>...</td>\n",
       "      <td>3</td>\n",
       "      <td>3</td>\n",
       "      <td>3</td>\n",
       "      <td>3</td>\n",
       "      <td>3</td>\n",
       "      <td>3</td>\n",
       "      <td>3</td>\n",
       "      <td>Standard</td>\n",
       "      <td>Standard</td>\n",
       "      <td>1</td>\n",
       "    </tr>\n",
       "    <tr>\n",
       "      <td>4</td>\n",
       "      <td>FF</td>\n",
       "      <td>2019-09-29</td>\n",
       "      <td>94.0</td>\n",
       "      <td>-1.2104</td>\n",
       "      <td>6.3349</td>\n",
       "      <td>Jimmy Nelson</td>\n",
       "      <td>460077</td>\n",
       "      <td>519076</td>\n",
       "      <td>field_out</td>\n",
       "      <td>hit_into_play</td>\n",
       "      <td>...</td>\n",
       "      <td>3</td>\n",
       "      <td>3</td>\n",
       "      <td>3</td>\n",
       "      <td>3</td>\n",
       "      <td>3</td>\n",
       "      <td>3</td>\n",
       "      <td>3</td>\n",
       "      <td>Standard</td>\n",
       "      <td>Standard</td>\n",
       "      <td>1</td>\n",
       "    </tr>\n",
       "    <tr>\n",
       "      <td>...</td>\n",
       "      <td>...</td>\n",
       "      <td>...</td>\n",
       "      <td>...</td>\n",
       "      <td>...</td>\n",
       "      <td>...</td>\n",
       "      <td>...</td>\n",
       "      <td>...</td>\n",
       "      <td>...</td>\n",
       "      <td>...</td>\n",
       "      <td>...</td>\n",
       "      <td>...</td>\n",
       "      <td>...</td>\n",
       "      <td>...</td>\n",
       "      <td>...</td>\n",
       "      <td>...</td>\n",
       "      <td>...</td>\n",
       "      <td>...</td>\n",
       "      <td>...</td>\n",
       "      <td>...</td>\n",
       "      <td>...</td>\n",
       "      <td>...</td>\n",
       "    </tr>\n",
       "    <tr>\n",
       "      <td>39995</td>\n",
       "      <td>CH</td>\n",
       "      <td>2019-08-02</td>\n",
       "      <td>78.7</td>\n",
       "      <td>-2.6783</td>\n",
       "      <td>3.1811</td>\n",
       "      <td>Joe Smith</td>\n",
       "      <td>605480</td>\n",
       "      <td>501925</td>\n",
       "      <td>field_out</td>\n",
       "      <td>hit_into_play</td>\n",
       "      <td>...</td>\n",
       "      <td>2</td>\n",
       "      <td>2</td>\n",
       "      <td>10</td>\n",
       "      <td>2</td>\n",
       "      <td>10</td>\n",
       "      <td>2</td>\n",
       "      <td>10</td>\n",
       "      <td>Standard</td>\n",
       "      <td>Standard</td>\n",
       "      <td>1</td>\n",
       "    </tr>\n",
       "    <tr>\n",
       "      <td>39996</td>\n",
       "      <td>FS</td>\n",
       "      <td>2019-08-02</td>\n",
       "      <td>78.9</td>\n",
       "      <td>-0.6303</td>\n",
       "      <td>6.2404</td>\n",
       "      <td>Blake Parker</td>\n",
       "      <td>641477</td>\n",
       "      <td>453284</td>\n",
       "      <td>field_out</td>\n",
       "      <td>hit_into_play</td>\n",
       "      <td>...</td>\n",
       "      <td>3</td>\n",
       "      <td>3</td>\n",
       "      <td>3</td>\n",
       "      <td>3</td>\n",
       "      <td>3</td>\n",
       "      <td>3</td>\n",
       "      <td>3</td>\n",
       "      <td>Standard</td>\n",
       "      <td>Standard</td>\n",
       "      <td>1</td>\n",
       "    </tr>\n",
       "    <tr>\n",
       "      <td>39997</td>\n",
       "      <td>SI</td>\n",
       "      <td>2019-08-02</td>\n",
       "      <td>86.9</td>\n",
       "      <td>-2.5478</td>\n",
       "      <td>3.0005</td>\n",
       "      <td>Joe Smith</td>\n",
       "      <td>542979</td>\n",
       "      <td>501925</td>\n",
       "      <td>field_out</td>\n",
       "      <td>hit_into_play</td>\n",
       "      <td>...</td>\n",
       "      <td>2</td>\n",
       "      <td>2</td>\n",
       "      <td>10</td>\n",
       "      <td>2</td>\n",
       "      <td>10</td>\n",
       "      <td>2</td>\n",
       "      <td>10</td>\n",
       "      <td>Standard</td>\n",
       "      <td>Standard</td>\n",
       "      <td>1</td>\n",
       "    </tr>\n",
       "    <tr>\n",
       "      <td>39998</td>\n",
       "      <td>FS</td>\n",
       "      <td>2019-08-02</td>\n",
       "      <td>82.2</td>\n",
       "      <td>-2.4241</td>\n",
       "      <td>4.7044</td>\n",
       "      <td>Zac Grotz</td>\n",
       "      <td>488726</td>\n",
       "      <td>665093</td>\n",
       "      <td>field_out</td>\n",
       "      <td>hit_into_play</td>\n",
       "      <td>...</td>\n",
       "      <td>2</td>\n",
       "      <td>10</td>\n",
       "      <td>2</td>\n",
       "      <td>2</td>\n",
       "      <td>10</td>\n",
       "      <td>10</td>\n",
       "      <td>2</td>\n",
       "      <td>Standard</td>\n",
       "      <td>Standard</td>\n",
       "      <td>1</td>\n",
       "    </tr>\n",
       "    <tr>\n",
       "      <td>39999</td>\n",
       "      <td>FC</td>\n",
       "      <td>2019-08-02</td>\n",
       "      <td>89.9</td>\n",
       "      <td>-1.1608</td>\n",
       "      <td>6.2304</td>\n",
       "      <td>Alex Colome</td>\n",
       "      <td>664068</td>\n",
       "      <td>517008</td>\n",
       "      <td>field_out</td>\n",
       "      <td>hit_into_play</td>\n",
       "      <td>...</td>\n",
       "      <td>3</td>\n",
       "      <td>3</td>\n",
       "      <td>3</td>\n",
       "      <td>3</td>\n",
       "      <td>3</td>\n",
       "      <td>3</td>\n",
       "      <td>3</td>\n",
       "      <td>Standard</td>\n",
       "      <td>Strategic</td>\n",
       "      <td>1</td>\n",
       "    </tr>\n",
       "  </tbody>\n",
       "</table>\n",
       "<p>40000 rows × 90 columns</p>\n",
       "</div>"
      ],
      "text/plain": [
       "      pitch_type   game_date  release_speed  release_pos_x  release_pos_z  \\\n",
       "0             SL  2019-09-29           83.8        -0.9456         6.2833   \n",
       "1             FC  2019-09-29           94.6        -2.5397         6.1040   \n",
       "2             FC  2019-09-29           92.9        -2.7475         6.0623   \n",
       "3             SI  2019-09-29           93.8        -1.4514         6.3377   \n",
       "4             FF  2019-09-29           94.0        -1.2104         6.3349   \n",
       "...          ...         ...            ...            ...            ...   \n",
       "39995         CH  2019-08-02           78.7        -2.6783         3.1811   \n",
       "39996         FS  2019-08-02           78.9        -0.6303         6.2404   \n",
       "39997         SI  2019-08-02           86.9        -2.5478         3.0005   \n",
       "39998         FS  2019-08-02           82.2        -2.4241         4.7044   \n",
       "39999         FC  2019-08-02           89.9        -1.1608         6.2304   \n",
       "\n",
       "        player_name  batter  pitcher     events           description  ...  \\\n",
       "0        Jake Faria  602074   607188     single  hit_into_play_no_out  ...   \n",
       "1        Bryan Shaw  621438   543766  field_out         hit_into_play  ...   \n",
       "2        Bryan Shaw  592325   543766  field_out         hit_into_play  ...   \n",
       "3      Jimmy Nelson  641658   519076  field_out         hit_into_play  ...   \n",
       "4      Jimmy Nelson  460077   519076  field_out         hit_into_play  ...   \n",
       "...             ...     ...      ...        ...                   ...  ...   \n",
       "39995     Joe Smith  605480   501925  field_out         hit_into_play  ...   \n",
       "39996  Blake Parker  641477   453284  field_out         hit_into_play  ...   \n",
       "39997     Joe Smith  542979   501925  field_out         hit_into_play  ...   \n",
       "39998     Zac Grotz  488726   665093  field_out         hit_into_play  ...   \n",
       "39999   Alex Colome  664068   517008  field_out         hit_into_play  ...   \n",
       "\n",
       "       away_score  bat_score  fld_score  post_away_score  post_home_score  \\\n",
       "0               3          3          3                3                3   \n",
       "1               3          3          3                3                3   \n",
       "2               3          3          3                3                3   \n",
       "3               3          3          3                3                3   \n",
       "4               3          3          3                3                3   \n",
       "...           ...        ...        ...              ...              ...   \n",
       "39995           2          2         10                2               10   \n",
       "39996           3          3          3                3                3   \n",
       "39997           2          2         10                2               10   \n",
       "39998           2         10          2                2               10   \n",
       "39999           3          3          3                3                3   \n",
       "\n",
       "      post_bat_score post_fld_score if_fielding_alignment  \\\n",
       "0                  3              3              Standard   \n",
       "1                  3              3              Standard   \n",
       "2                  3              3              Standard   \n",
       "3                  3              3              Standard   \n",
       "4                  3              3              Standard   \n",
       "...              ...            ...                   ...   \n",
       "39995              2             10              Standard   \n",
       "39996              3              3              Standard   \n",
       "39997              2             10              Standard   \n",
       "39998             10              2              Standard   \n",
       "39999              3              3              Standard   \n",
       "\n",
       "      of_fielding_alignment hit  \n",
       "0                  Standard   0  \n",
       "1                  Standard   1  \n",
       "2                  Standard   1  \n",
       "3                  Standard   1  \n",
       "4                  Standard   1  \n",
       "...                     ...  ..  \n",
       "39995              Standard   1  \n",
       "39996              Standard   1  \n",
       "39997              Standard   1  \n",
       "39998              Standard   1  \n",
       "39999             Strategic   1  \n",
       "\n",
       "[40000 rows x 90 columns]"
      ]
     },
     "execution_count": 10,
     "metadata": {},
     "output_type": "execute_result"
    }
   ],
   "source": [
    "df"
   ]
  },
  {
   "cell_type": "markdown",
   "metadata": {},
   "source": [
    "# STEP 2: Explore and Visualize"
   ]
  },
  {
   "cell_type": "code",
   "execution_count": 11,
   "metadata": {},
   "outputs": [
    {
     "data": {
      "text/plain": [
       "Text(0.5,1,'Number of Hits/Non-Hits in the Data')"
      ]
     },
     "execution_count": 11,
     "metadata": {},
     "output_type": "execute_result"
    },
    {
     "data": {
      "image/png": "[encoded data removed]",
      "text/plain": [
       "<Figure size 576x432 with 1 Axes>"
      ]
     },
     "metadata": {
      "needs_background": "light"
     },
     "output_type": "display_data"
    }
   ],
   "source": [
    "# Visualize the difference between the averages of the control and the mean\n",
    "\n",
    "plt.figure(figsize=(8,6))\n",
    "X = ['Hit', 'Non-Hit']\n",
    "y = df['hit'].value_counts()\n",
    "plt.bar(X,y, color=('navy','grey'))\n",
    "plt.text(s=round(y[1],2), x=1, y=10, color=\"w\", horizontalalignment='center',size=18)\n",
    "plt.text(s=round(y[0],2), x=0, y=10, color=\"w\", horizontalalignment='center',size=18)\n",
    "plt.ylabel('Frequency')\n",
    "plt.title('Number of Hits/Non-Hits in the Data')"
   ]
  },
  {
   "cell_type": "markdown",
   "metadata": {},
   "source": [
    "# STEP 2a. Questions"
   ]
  },
  {
   "cell_type": "markdown",
   "metadata": {},
   "source": [
    "Of all the players in the dataset:\n",
    "\n",
    "- Who has the most hits?\n",
    "- Who hit the ball the hardest?\n",
    "- What is the distribution of hits?"
   ]
  },
  {
   "cell_type": "code",
   "execution_count": 12,
   "metadata": {},
   "outputs": [],
   "source": [
    "# Function to visualize and compare two distributions\n",
    "\n",
    "def visualization(hits, non_hits):\n",
    "    plt.figure(figsize=[10,6])\n",
    "    sns.distplot(hits, color='blue', label='Hits', bins = 50)\n",
    "    plt.axvline(hits.mean(), color='darkblue', label='Hits Mean')\n",
    "    sns.distplot(non_hits, color='green', label='Non_hits', bins = 50)\n",
    "    plt.axvline(non_hits.mean(), color='darkgreen', label='Non_hits Mean')\n",
    "    plt.legend()\n",
    "    plt.title('Hits vs. Non_hits Launch Angle')\n",
    "    plt.xlabel('Distribution')\n",
    "    plt.ylabel('Frequency')\n",
    "    plt.show()"
   ]
  },
  {
   "cell_type": "code",
   "execution_count": 13,
   "metadata": {},
   "outputs": [
    {
     "data": {
      "image/png": "[encoded data removed]",
      "text/plain": [
       "<Figure size 720x432 with 1 Axes>"
      ]
     },
     "metadata": {
      "needs_background": "light"
     },
     "output_type": "display_data"
    }
   ],
   "source": [
    "visualization(df.loc[df['hit']==1]['launch_angle'], df.loc[df['hit']==0]['launch_angle'])"
   ]
  },
  {
   "cell_type": "code",
   "execution_count": null,
   "metadata": {},
   "outputs": [],
   "source": []
  },
  {
   "cell_type": "code",
   "execution_count": null,
   "metadata": {},
   "outputs": [],
   "source": []
  },
  {
   "cell_type": "code",
   "execution_count": null,
   "metadata": {},
   "outputs": [],
   "source": []
  },
  {
   "cell_type": "code",
   "execution_count": null,
   "metadata": {},
   "outputs": [],
   "source": []
  },
  {
   "cell_type": "code",
   "execution_count": null,
   "metadata": {},
   "outputs": [],
   "source": []
  },
  {
   "cell_type": "code",
   "execution_count": null,
   "metadata": {},
   "outputs": [],
   "source": []
  },
  {
   "cell_type": "code",
   "execution_count": 15,
   "metadata": {
    "scrolled": true
   },
   "outputs": [],
   "source": [
    "#df_final = df[['game_date', 'batter', 'pitcher', 'stand',\n",
    "#       'p_throws', 'home_team', 'away_team', 'launch_speed', 'launch_angle',\n",
    "#       'estimated_ba_using_speedangle', 'hit']]"
   ]
  },
  {
   "cell_type": "code",
   "execution_count": 16,
   "metadata": {},
   "outputs": [],
   "source": [
    "#df_final.loc[df_final['hit']==1].sort_values(by='estimated_ba_using_speedangle', ascending=False)"
   ]
  },
  {
   "cell_type": "code",
   "execution_count": 14,
   "metadata": {},
   "outputs": [],
   "source": [
    "# Subsetting target variable\n",
    "target = df['hit']\n",
    "\n",
    "# Preparing features\n",
    "features = df.drop(['hit'], axis = 1, inplace = False)\n",
    "# Dummy variables\n",
    "#features = pd.get_dummies(features)"
   ]
  },
  {
   "cell_type": "code",
   "execution_count": 15,
   "metadata": {},
   "outputs": [
    {
     "data": {
      "text/plain": [
       "pitch_type                61\n",
       "game_date                  0\n",
       "release_speed            184\n",
       "release_pos_x            186\n",
       "release_pos_z            186\n",
       "                        ... \n",
       "post_bat_score             0\n",
       "post_fld_score             0\n",
       "if_fielding_alignment     81\n",
       "of_fielding_alignment     81\n",
       "hit                        0\n",
       "Length: 90, dtype: int64"
      ]
     },
     "execution_count": 15,
     "metadata": {},
     "output_type": "execute_result"
    }
   ],
   "source": [
    "df.isna().sum()"
   ]
  },
  {
   "cell_type": "code",
   "execution_count": 18,
   "metadata": {},
   "outputs": [
    {
     "data": {
      "text/plain": [
       "(40000, 89)"
      ]
     },
     "execution_count": 18,
     "metadata": {},
     "output_type": "execute_result"
    }
   ],
   "source": [
    "features.shape"
   ]
  },
  {
   "cell_type": "code",
   "execution_count": 111,
   "metadata": {},
   "outputs": [],
   "source": [
    "#df.isnull().sum().to_frame('nulls').sort_values(by='nulls', ascending = False).head(15)"
   ]
  },
  {
   "cell_type": "code",
   "execution_count": 17,
   "metadata": {},
   "outputs": [],
   "source": [
    "#df = df.drop(['spin_rate_deprecated', 'spin_dir', 'umpire', 'tfs_zulu_deprecated', 'tfs_deprecated'], 1)\n",
    "#df = df.drop('break_length_deprecated', 1)\n",
    "#df['on_3b'] = df['on_3b'].fillna(0)\n",
    "#df['on_2b'] = df['on_2b'].fillna(0)\n",
    "#df['on_1b'] = df['on_1b'].fillna(0)\n",
    "df = df.dropna()"
   ]
  },
  {
   "cell_type": "code",
   "execution_count": 150,
   "metadata": {},
   "outputs": [],
   "source": [
    "# Testing/Trainging data split for model \n",
    "\n",
    "X_train, X_test, y_train, y_test = train_test_split(features, target, test_size=0.20)"
   ]
  },
  {
   "cell_type": "code",
   "execution_count": 135,
   "metadata": {},
   "outputs": [
    {
     "data": {
      "text/html": [
       "<div>\n",
       "<style scoped>\n",
       "    .dataframe tbody tr th:only-of-type {\n",
       "        vertical-align: middle;\n",
       "    }\n",
       "\n",
       "    .dataframe tbody tr th {\n",
       "        vertical-align: top;\n",
       "    }\n",
       "\n",
       "    .dataframe thead th {\n",
       "        text-align: right;\n",
       "    }\n",
       "</style>\n",
       "<table border=\"1\" class=\"dataframe\">\n",
       "  <thead>\n",
       "    <tr style=\"text-align: right;\">\n",
       "      <th></th>\n",
       "      <th>game_date</th>\n",
       "      <th>batter</th>\n",
       "      <th>pitcher</th>\n",
       "      <th>stand</th>\n",
       "      <th>p_throws</th>\n",
       "      <th>home_team</th>\n",
       "      <th>away_team</th>\n",
       "      <th>launch_speed</th>\n",
       "      <th>launch_angle</th>\n",
       "      <th>estimated_ba_using_speedangle</th>\n",
       "      <th>hit</th>\n",
       "    </tr>\n",
       "  </thead>\n",
       "  <tbody>\n",
       "    <tr>\n",
       "      <td>0</td>\n",
       "      <td>2019-09-29</td>\n",
       "      <td>602074</td>\n",
       "      <td>607188</td>\n",
       "      <td>R</td>\n",
       "      <td>R</td>\n",
       "      <td>COL</td>\n",
       "      <td>MIL</td>\n",
       "      <td>40.0</td>\n",
       "      <td>-36.0</td>\n",
       "      <td>0.138</td>\n",
       "      <td>0</td>\n",
       "    </tr>\n",
       "    <tr>\n",
       "      <td>1</td>\n",
       "      <td>2019-09-29</td>\n",
       "      <td>621438</td>\n",
       "      <td>543766</td>\n",
       "      <td>R</td>\n",
       "      <td>R</td>\n",
       "      <td>COL</td>\n",
       "      <td>MIL</td>\n",
       "      <td>77.8</td>\n",
       "      <td>-37.3</td>\n",
       "      <td>0.048</td>\n",
       "      <td>1</td>\n",
       "    </tr>\n",
       "    <tr>\n",
       "      <td>2</td>\n",
       "      <td>2019-09-29</td>\n",
       "      <td>592325</td>\n",
       "      <td>543766</td>\n",
       "      <td>L</td>\n",
       "      <td>R</td>\n",
       "      <td>COL</td>\n",
       "      <td>MIL</td>\n",
       "      <td>80.6</td>\n",
       "      <td>35.5</td>\n",
       "      <td>0.030</td>\n",
       "      <td>1</td>\n",
       "    </tr>\n",
       "    <tr>\n",
       "      <td>3</td>\n",
       "      <td>2019-09-29</td>\n",
       "      <td>641658</td>\n",
       "      <td>519076</td>\n",
       "      <td>R</td>\n",
       "      <td>R</td>\n",
       "      <td>COL</td>\n",
       "      <td>MIL</td>\n",
       "      <td>106.6</td>\n",
       "      <td>14.2</td>\n",
       "      <td>0.680</td>\n",
       "      <td>1</td>\n",
       "    </tr>\n",
       "    <tr>\n",
       "      <td>4</td>\n",
       "      <td>2019-09-29</td>\n",
       "      <td>460077</td>\n",
       "      <td>519076</td>\n",
       "      <td>R</td>\n",
       "      <td>R</td>\n",
       "      <td>COL</td>\n",
       "      <td>MIL</td>\n",
       "      <td>86.9</td>\n",
       "      <td>44.3</td>\n",
       "      <td>0.005</td>\n",
       "      <td>1</td>\n",
       "    </tr>\n",
       "    <tr>\n",
       "      <td>...</td>\n",
       "      <td>...</td>\n",
       "      <td>...</td>\n",
       "      <td>...</td>\n",
       "      <td>...</td>\n",
       "      <td>...</td>\n",
       "      <td>...</td>\n",
       "      <td>...</td>\n",
       "      <td>...</td>\n",
       "      <td>...</td>\n",
       "      <td>...</td>\n",
       "      <td>...</td>\n",
       "    </tr>\n",
       "    <tr>\n",
       "      <td>39995</td>\n",
       "      <td>2019-08-02</td>\n",
       "      <td>605480</td>\n",
       "      <td>501925</td>\n",
       "      <td>L</td>\n",
       "      <td>R</td>\n",
       "      <td>HOU</td>\n",
       "      <td>SEA</td>\n",
       "      <td>71.9</td>\n",
       "      <td>47.7</td>\n",
       "      <td>0.188</td>\n",
       "      <td>1</td>\n",
       "    </tr>\n",
       "    <tr>\n",
       "      <td>39996</td>\n",
       "      <td>2019-08-02</td>\n",
       "      <td>641477</td>\n",
       "      <td>453284</td>\n",
       "      <td>R</td>\n",
       "      <td>R</td>\n",
       "      <td>PHI</td>\n",
       "      <td>CWS</td>\n",
       "      <td>61.2</td>\n",
       "      <td>64.9</td>\n",
       "      <td>0.002</td>\n",
       "      <td>1</td>\n",
       "    </tr>\n",
       "    <tr>\n",
       "      <td>39997</td>\n",
       "      <td>2019-08-02</td>\n",
       "      <td>542979</td>\n",
       "      <td>501925</td>\n",
       "      <td>R</td>\n",
       "      <td>R</td>\n",
       "      <td>HOU</td>\n",
       "      <td>SEA</td>\n",
       "      <td>104.8</td>\n",
       "      <td>0.1</td>\n",
       "      <td>0.468</td>\n",
       "      <td>1</td>\n",
       "    </tr>\n",
       "    <tr>\n",
       "      <td>39998</td>\n",
       "      <td>2019-08-02</td>\n",
       "      <td>488726</td>\n",
       "      <td>665093</td>\n",
       "      <td>L</td>\n",
       "      <td>R</td>\n",
       "      <td>HOU</td>\n",
       "      <td>SEA</td>\n",
       "      <td>97.4</td>\n",
       "      <td>-1.4</td>\n",
       "      <td>0.395</td>\n",
       "      <td>1</td>\n",
       "    </tr>\n",
       "    <tr>\n",
       "      <td>39999</td>\n",
       "      <td>2019-08-02</td>\n",
       "      <td>664068</td>\n",
       "      <td>517008</td>\n",
       "      <td>R</td>\n",
       "      <td>R</td>\n",
       "      <td>PHI</td>\n",
       "      <td>CWS</td>\n",
       "      <td>82.9</td>\n",
       "      <td>-20.7</td>\n",
       "      <td>0.075</td>\n",
       "      <td>1</td>\n",
       "    </tr>\n",
       "  </tbody>\n",
       "</table>\n",
       "<p>40000 rows × 11 columns</p>\n",
       "</div>"
      ],
      "text/plain": [
       "        game_date  batter  pitcher stand p_throws home_team away_team  \\\n",
       "0      2019-09-29  602074   607188     R        R       COL       MIL   \n",
       "1      2019-09-29  621438   543766     R        R       COL       MIL   \n",
       "2      2019-09-29  592325   543766     L        R       COL       MIL   \n",
       "3      2019-09-29  641658   519076     R        R       COL       MIL   \n",
       "4      2019-09-29  460077   519076     R        R       COL       MIL   \n",
       "...           ...     ...      ...   ...      ...       ...       ...   \n",
       "39995  2019-08-02  605480   501925     L        R       HOU       SEA   \n",
       "39996  2019-08-02  641477   453284     R        R       PHI       CWS   \n",
       "39997  2019-08-02  542979   501925     R        R       HOU       SEA   \n",
       "39998  2019-08-02  488726   665093     L        R       HOU       SEA   \n",
       "39999  2019-08-02  664068   517008     R        R       PHI       CWS   \n",
       "\n",
       "       launch_speed  launch_angle  estimated_ba_using_speedangle  hit  \n",
       "0              40.0         -36.0                          0.138    0  \n",
       "1              77.8         -37.3                          0.048    1  \n",
       "2              80.6          35.5                          0.030    1  \n",
       "3             106.6          14.2                          0.680    1  \n",
       "4              86.9          44.3                          0.005    1  \n",
       "...             ...           ...                            ...  ...  \n",
       "39995          71.9          47.7                          0.188    1  \n",
       "39996          61.2          64.9                          0.002    1  \n",
       "39997         104.8           0.1                          0.468    1  \n",
       "39998          97.4          -1.4                          0.395    1  \n",
       "39999          82.9         -20.7                          0.075    1  \n",
       "\n",
       "[40000 rows x 11 columns]"
      ]
     },
     "execution_count": 135,
     "metadata": {},
     "output_type": "execute_result"
    }
   ],
   "source": [
    "df_final"
   ]
  },
  {
   "cell_type": "code",
   "execution_count": 140,
   "metadata": {},
   "outputs": [
    {
     "data": {
      "text/plain": [
       "['Vanilla Decision Tree', 1.0, 0.7393, 0.8124620060790274, 0.803970223325062]"
      ]
     },
     "execution_count": 140,
     "metadata": {},
     "output_type": "execute_result"
    }
   ],
   "source": [
    "### Model\n",
    "dt = DecisionTreeClassifier(random_state=10)  \n",
    "\n",
    "# train\n",
    "dt = dt.fit(X_train, y_train)\n",
    "\n",
    "# predict\n",
    "dt_train_preds = dt.predict(X_train)\n",
    "dt_test_preds = dt.predict(X_test)\n",
    "\n",
    "# evaluate\n",
    "dt_train_accuracy = accuracy_score(y_train, dt_train_preds)\n",
    "dt_test_accuracy = accuracy_score(y_test, dt_test_preds)\n",
    "dt_test_precision = precision_score(y_test, dt_test_preds)\n",
    "dt_test_F1 = f1_score(y_test, dt_test_preds)\n",
    "dt_report = classification_report(y_test, dt_test_preds)\n",
    "\n",
    "# append accuracy score to our dataframe\n",
    "score_dt = ['Vanilla Decision Tree', dt_train_accuracy, dt_test_accuracy, dt_test_precision, dt_test_F1]\n"
   ]
  },
  {
   "cell_type": "code",
   "execution_count": 152,
   "metadata": {},
   "outputs": [
    {
     "name": "stdout",
     "output_type": "stream",
     "text": [
      "Vanilla Decision Tree\n",
      "------------------------------------------------------\n",
      "Training Accuracy: 100.0%\n",
      "Test Accuracy:     73.9%\n",
      "\n",
      "\n",
      "------------------------------------------------------\n",
      "\n",
      "\n",
      "Random Forest\n",
      "------------------------------------------------------\n",
      "Training Accuracy: 99.02%\n",
      "Test Accuracy:     79.11%\n",
      "\n",
      "\n",
      "------------------------------------------------------\n",
      "\n",
      "\n",
      "Adaboost\n",
      "------------------------------------------------------\n",
      "Training Accuracy: 80.13%\n",
      "Test Accuracy:     80.24%\n"
     ]
    }
   ],
   "source": [
    "### Model 1 - Decision Tree\n",
    "dt = DecisionTreeClassifier(random_state=10)  \n",
    "\n",
    "# train\n",
    "dt = dt.fit(X_train, y_train)\n",
    "\n",
    "# predict\n",
    "dt_train_preds = dt.predict(X_train)\n",
    "dt_test_preds = dt.predict(X_test)\n",
    "\n",
    "# evaluate\n",
    "dt_train_accuracy = accuracy_score(y_train, dt_train_preds)\n",
    "dt_test_accuracy = accuracy_score(y_test, dt_test_preds)\n",
    "\n",
    "# -------------------------------------------------------------\n",
    "\n",
    "### Model 2 - Random Forest\n",
    "rfc = RandomForestClassifier()\n",
    "\n",
    "# train\n",
    "rfc = rfc.fit(X_train, y_train)\n",
    "\n",
    "# predict\n",
    "rfc_train_preds = rfc.predict(X_train)\n",
    "rfc_test_preds = rfc.predict(X_test)\n",
    "\n",
    "# evaluate\n",
    "rfc_train_accuracy = accuracy_score(y_train, rfc_train_preds)\n",
    "rfc_test_accuracy = accuracy_score(y_test, rfc_test_preds)\n",
    "\n",
    "# -------------------------------------------------------------\n",
    "\n",
    "### Model 3 - Adaboost\n",
    "adaboost = AdaBoostClassifier()\n",
    "\n",
    "# train\n",
    "adaboost = adaboost.fit(X_train, y_train)\n",
    "\n",
    "# predict\n",
    "adaboost_train_preds = adaboost.predict(X_train)\n",
    "adaboost_test_preds = adaboost.predict(X_test)\n",
    "\n",
    "# evaluate\n",
    "adaboost_train_accuracy = accuracy_score(y_train, adaboost_train_preds)\n",
    "adaboost_test_accuracy = accuracy_score(y_test, adaboost_test_preds)\n",
    "\n",
    "# -------------------------------------------------------------\n",
    "print('Vanilla Decision Tree')\n",
    "print('------------------------------------------------------')\n",
    "print(f\"Training Accuracy: {(dt_train_accuracy * 100):.4}%\")\n",
    "print(f\"Test Accuracy:     {(dt_test_accuracy * 100):.4}%\")\n",
    "print('\\n')\n",
    "print('------------------------------------------------------')\n",
    "print('\\n')\n",
    "print('Random Forest')\n",
    "print('------------------------------------------------------')\n",
    "print(f\"Training Accuracy: {(rfc_train_accuracy * 100):.4}%\")\n",
    "print(f\"Test Accuracy:     {(rfc_test_accuracy * 100):.4}%\")\n",
    "print('\\n')\n",
    "print('------------------------------------------------------')\n",
    "print('\\n')\n",
    "print('Adaboost')\n",
    "print('------------------------------------------------------')\n",
    "print(f\"Training Accuracy: {(adaboost_train_accuracy * 100):.4}%\")\n",
    "print(f\"Test Accuracy:     {(adaboost_test_accuracy * 100):.4}%\")\n"
   ]
  },
  {
   "cell_type": "code",
   "execution_count": null,
   "metadata": {},
   "outputs": [],
   "source": [
    "print('Vanilla Decision Tree')\n",
    "print('------------------------------------------------------')\n",
    "print(f\"Training Accuracy: {(dt_train_accuracy * 100):.4}%\")\n",
    "print(f\"Test Accuracy:     {(dt_test_accuracy * 100):.4}%\")"
   ]
  },
  {
   "cell_type": "code",
   "execution_count": 146,
   "metadata": {},
   "outputs": [],
   "source": [
    "results = pd.DataFrame(results)"
   ]
  },
  {
   "cell_type": "code",
   "execution_count": 147,
   "metadata": {},
   "outputs": [
    {
     "data": {
      "text/html": [
       "<div>\n",
       "<style scoped>\n",
       "    .dataframe tbody tr th:only-of-type {\n",
       "        vertical-align: middle;\n",
       "    }\n",
       "\n",
       "    .dataframe tbody tr th {\n",
       "        vertical-align: top;\n",
       "    }\n",
       "\n",
       "    .dataframe thead th {\n",
       "        text-align: right;\n",
       "    }\n",
       "</style>\n",
       "<table border=\"1\" class=\"dataframe\">\n",
       "  <thead>\n",
       "    <tr style=\"text-align: right;\">\n",
       "      <th></th>\n",
       "      <th>Model</th>\n",
       "      <th>Training Accuracy</th>\n",
       "      <th>Testing Accuracy</th>\n",
       "    </tr>\n",
       "  </thead>\n",
       "  <tbody>\n",
       "    <tr>\n",
       "      <td>0</td>\n",
       "      <td>Decision Tree</td>\n",
       "      <td>80.173333</td>\n",
       "      <td>80.36</td>\n",
       "    </tr>\n",
       "    <tr>\n",
       "      <td>1</td>\n",
       "      <td>Random Forest</td>\n",
       "      <td>98.800000</td>\n",
       "      <td>79.21</td>\n",
       "    </tr>\n",
       "    <tr>\n",
       "      <td>2</td>\n",
       "      <td>Adaboost</td>\n",
       "      <td>80.346667</td>\n",
       "      <td>80.55</td>\n",
       "    </tr>\n",
       "  </tbody>\n",
       "</table>\n",
       "</div>"
      ],
      "text/plain": [
       "           Model  Training Accuracy  Testing Accuracy\n",
       "0  Decision Tree          80.173333             80.36\n",
       "1  Random Forest          98.800000             79.21\n",
       "2       Adaboost          80.346667             80.55"
      ]
     },
     "execution_count": 147,
     "metadata": {},
     "output_type": "execute_result"
    }
   ],
   "source": [
    "results"
   ]
  },
  {
   "cell_type": "code",
   "execution_count": 148,
   "metadata": {},
   "outputs": [
    {
     "name": "stdout",
     "output_type": "stream",
     "text": [
      "Classification Report Vanilla Decision Tree: \n",
      "               precision    recall  f1-score   support\n",
      "\n",
      "           0       0.60      0.62      0.61      3281\n",
      "           1       0.81      0.80      0.80      6719\n",
      "\n",
      "    accuracy                           0.74     10000\n",
      "   macro avg       0.71      0.71      0.71     10000\n",
      "weighted avg       0.74      0.74      0.74     10000\n",
      "\n",
      "------------------------------------------------------\n",
      "\n",
      "Vanilla Decision Tree\n",
      "------------------------------------------------------\n",
      "Training Accuracy: 80.17%\n",
      "Test Accuracy:     80.36%\n"
     ]
    }
   ],
   "source": [
    "print('Classification Report Vanilla Decision Tree: \\n', dt_report)\n",
    "print('------------------------------------------------------')\n",
    "print('')\n",
    "print('Vanilla Decision Tree')\n",
    "print('------------------------------------------------------')\n",
    "print(f\"Training Accuracy: {(dt_train_accuracy * 100):.4}%\")\n",
    "print(f\"Test Accuracy:     {(dt_test_accuracy * 100):.4}%\")"
   ]
  },
  {
   "cell_type": "code",
   "execution_count": 119,
   "metadata": {},
   "outputs": [
    {
     "data": {
      "image/png": "[encoded data removed]",
      "text/plain": [
       "<Figure size 432x288 with 2 Axes>"
      ]
     },
     "metadata": {
      "needs_background": "light"
     },
     "output_type": "display_data"
    }
   ],
   "source": [
    "show_cf(y_test, dt_test_preds)"
   ]
  },
  {
   "cell_type": "code",
   "execution_count": 123,
   "metadata": {},
   "outputs": [
    {
     "name": "stdout",
     "output_type": "stream",
     "text": [
      "feat importance = [0. 0. 0. ... 0. 0. 0.]\n"
     ]
    }
   ],
   "source": [
    "feat_importance = dt.tree_.compute_feature_importances(normalize=False)\n",
    "print(\"feat importance = \" + str(feat_importance))"
   ]
  },
  {
   "cell_type": "code",
   "execution_count": null,
   "metadata": {},
   "outputs": [],
   "source": []
  },
  {
   "cell_type": "code",
   "execution_count": 25,
   "metadata": {},
   "outputs": [
    {
     "name": "stderr",
     "output_type": "stream",
     "text": [
      "/Users/Kelly/anaconda3/lib/python3.7/site-packages/sklearn/ensemble/forest.py:245: FutureWarning: The default value of n_estimators will change from 10 in version 0.20 to 100 in 0.22.\n",
      "  \"10 in version 0.20 to 100 in 0.22.\", FutureWarning)\n"
     ]
    }
   ],
   "source": [
    "# model\n",
    "rfc = RandomForestClassifier()\n",
    "\n",
    "# train\n",
    "rfc = rfc.fit(X_train, y_train)\n",
    "\n",
    "# predict\n",
    "rfc_train_preds = rfc.predict(X_train)\n",
    "rfc_test_preds = rfc.predict(X_test)\n",
    "\n",
    "# evaluate\n",
    "rfc_train_accuracy = accuracy_score(y_train, rfc_train_preds)\n",
    "rfc_test_accuracy = accuracy_score(y_test, rfc_test_preds)\n",
    "rfc_test_precision = precision_score(y_test, rfc_test_preds)\n",
    "rfc_test_F1 = f1_score(y_test, rfc_test_preds)\n",
    "rfc_report = classification_report(y_test, rfc_test_preds)\n",
    "\n",
    "# append accuracy score to our dataframe\n",
    "score_rfc = ['Random Forest', rfc_train_accuracy, rfc_test_accuracy, rfc_test_precision, rfc_test_F1]"
   ]
  },
  {
   "cell_type": "code",
   "execution_count": 26,
   "metadata": {},
   "outputs": [
    {
     "name": "stdout",
     "output_type": "stream",
     "text": [
      "Classification Report Random Forest: \n",
      "               precision    recall  f1-score   support\n",
      "\n",
      "           0       0.69      0.68      0.69      3407\n",
      "           1       0.84      0.84      0.84      6593\n",
      "\n",
      "    accuracy                           0.79     10000\n",
      "   macro avg       0.76      0.76      0.76     10000\n",
      "weighted avg       0.79      0.79      0.79     10000\n",
      "\n",
      "------------------------------------------------------\n",
      "\n",
      "Random Forest\n",
      "------------------------------------------------------\n",
      "Training Accuracy: 99.04%\n",
      "Test Accuracy:     78.61%\n"
     ]
    }
   ],
   "source": [
    "\n",
    "print('Classification Report Random Forest: \\n', rfc_report)\n",
    "print('------------------------------------------------------')\n",
    "print('')\n",
    "print('Random Forest')\n",
    "print('------------------------------------------------------')\n",
    "print(f\"Training Accuracy: {(rfc_train_accuracy * 100):.4}%\")\n",
    "print(f\"Test Accuracy:     {(rfc_test_accuracy * 100):.4}%\")"
   ]
  },
  {
   "cell_type": "code",
   "execution_count": 27,
   "metadata": {},
   "outputs": [
    {
     "data": {
      "image/png": "[encoded data removed]",
      "text/plain": [
       "<Figure size 432x288 with 2 Axes>"
      ]
     },
     "metadata": {
      "needs_background": "light"
     },
     "output_type": "display_data"
    }
   ],
   "source": [
    "show_cf(y_test, rfc_test_preds)"
   ]
  },
  {
   "cell_type": "code",
   "execution_count": 28,
   "metadata": {},
   "outputs": [],
   "source": [
    "import warnings\n",
    "warnings.filterwarnings(\"ignore\")\n",
    "# model\n",
    "adaboost = AdaBoostClassifier()\n",
    "\n",
    "# train\n",
    "adaboost = adaboost.fit(X_train, y_train)\n",
    "\n",
    "# predict\n",
    "adaboost_train_preds = adaboost.predict(X_train)\n",
    "adaboost_test_preds = adaboost.predict(X_test)\n",
    "\n",
    "# evaluate\n",
    "adaboost_train_accuracy = accuracy_score(y_train, adaboost_train_preds)\n",
    "adaboost_test_accuracy = accuracy_score(y_test, adaboost_test_preds)\n",
    "adaboost_test_precision = precision_score(y_test, adaboost_test_preds)\n",
    "adaboost_test_F1 = f1_score(y_test, adaboost_test_preds)\n",
    "adaboost_report = classification_report(y_test, adaboost_test_preds)\n",
    "\n",
    "# append accuracy score to our dataframe\n",
    "score_adaboost = ['Adaboost', adaboost_train_accuracy, adaboost_test_accuracy, adaboost_test_precision, adaboost_test_F1]"
   ]
  },
  {
   "cell_type": "code",
   "execution_count": 29,
   "metadata": {},
   "outputs": [
    {
     "name": "stdout",
     "output_type": "stream",
     "text": [
      "Classification Report Adaboost: \n",
      "               precision    recall  f1-score   support\n",
      "\n",
      "           0       0.72      0.69      0.70      3407\n",
      "           1       0.84      0.86      0.85      6593\n",
      "\n",
      "    accuracy                           0.80     10000\n",
      "   macro avg       0.78      0.77      0.78     10000\n",
      "weighted avg       0.80      0.80      0.80     10000\n",
      "\n",
      "------------------------------------------------------\n",
      "\n",
      "Adaboost\n",
      "------------------------------------------------------\n",
      "Training Accuracy: 80.4%\n",
      "Test Accuracy:     80.01%\n"
     ]
    }
   ],
   "source": [
    "print('Classification Report Adaboost: \\n', adaboost_report)\n",
    "print('------------------------------------------------------')\n",
    "print('')\n",
    "print('Adaboost')\n",
    "print('------------------------------------------------------')\n",
    "print(f\"Training Accuracy: {(adaboost_train_accuracy * 100):.4}%\")\n",
    "print(f\"Test Accuracy:     {(adaboost_test_accuracy * 100):.4}%\")"
   ]
  },
  {
   "cell_type": "code",
   "execution_count": 40,
   "metadata": {},
   "outputs": [
    {
     "data": {
      "image/png": "[encoded data removed]",
      "text/plain": [
       "<Figure size 432x288 with 2 Axes>"
      ]
     },
     "metadata": {
      "needs_background": "light"
     },
     "output_type": "display_data"
    }
   ],
   "source": [
    "show_cf(y_test, adaboost_test_preds)"
   ]
  }
 ],
 "metadata": {
  "kernelspec": {
   "display_name": "Python 3",
   "language": "python",
   "name": "python3"
  },
  "language_info": {
   "codemirror_mode": {
    "name": "ipython",
    "version": 3
   },
   "file_extension": ".py",
   "mimetype": "text/x-python",
   "name": "python",
   "nbconvert_exporter": "python",
   "pygments_lexer": "ipython3",
   "version": "3.7.4"
  }
 },
 "nbformat": 4,
 "nbformat_minor": 2
}
